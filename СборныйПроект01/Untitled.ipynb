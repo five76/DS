{
 "cells": [
  {
   "cell_type": "code",
   "execution_count": 2,
   "id": "df86449e",
   "metadata": {},
   "outputs": [],
   "source": [
    "import re\n",
    "import pandas as pd\n",
    "import numpy as np\n",
    "import seaborn as sns\n",
    "import matplotlib.pyplot as plt\n",
    "from scipy import stats as st"
   ]
  },
  {
   "cell_type": "code",
   "execution_count": null,
   "id": "99fc8d06",
   "metadata": {},
   "outputs": [],
   "source": [
    "try:\n",
    "    #data = pd.read_csv('/datasets/data.csv')\n",
    "    dc = pd.read_csv('/datasets/contract_new.csv')\n",
    "    dp = pd.read_csv('/datasets/personal_new.csv')\n",
    "    di =  pd.read_csv('/datasets/internet_new.csv')\n",
    "    dph =  pd.read_csv('/datasets/phone_new.csv')\n",
    "except:\n",
    "    data = pd.read_csv('https://code.s3.yandex.net/datasets/taxi.csv')\n",
    "    dc = pd.read_csv('/datasets/contract_new.csv')\n",
    "    dp = pd.read_csv('/datasets/personal_new.csv')\n",
    "    di =  pd.read_csv('/datasets/internet_new.csv')\n",
    "    dph =  pd.read_csv('/datasets/phone_new.csv')"
   ]
  }
 ],
 "metadata": {
  "kernelspec": {
   "display_name": "Python 3 (ipykernel)",
   "language": "python",
   "name": "python3"
  },
  "language_info": {
   "codemirror_mode": {
    "name": "ipython",
    "version": 3
   },
   "file_extension": ".py",
   "mimetype": "text/x-python",
   "name": "python",
   "nbconvert_exporter": "python",
   "pygments_lexer": "ipython3",
   "version": "3.10.9"
  }
 },
 "nbformat": 4,
 "nbformat_minor": 5
}
