{
 "cells": [
  {
   "cell_type": "markdown",
   "id": "7703a09f",
   "metadata": {},
   "source": [
    "<div style=\"border:solid Chocolate 2px; padding: 40px\">\n",
    "<b>Привет, Дмитрий!👋</b>\n",
    "    \n",
    "Меня зовут Зуева Юлия, можно просто Юля 😏 Я буду тимлилом твоего проекта. Предлагаю обращаться на \"ты\", но если это неудобно, пожалуйста, скажи об этом!\n",
    "    \n",
    "Моя основная цель - помочь тебе стать компетентным Data Scientist'ом: вместе преодолеть трудности и еще больше развить твои сильные навыки 💪 В твоей работе я оставила комментарии, которые должны в этом помочь. Для твоего удобства комментарии раскрашены разными цветами: \n",
    "<br/>\n",
    "<div class=\"alert alert-success\">\n",
    "Решение полностью правильное, или я посчитала нужным тебя за что-то похвалить :) На такие решения можно опираться в будущих проектах.\n",
    "</div>\n",
    "\n",
    "<div class=\"alert alert-warning\">\n",
    "Решение станет еще лучше, если внести небольшие коррективы. Ты можешь учесть эти комментарии при выполнении будущих заданий или доработать проект сейчас (но это не обязательно).\n",
    "</div>\n",
    "<div class=\"alert alert-block alert-danger\">\n",
    "Решение требует существенной переработки. Напомню, что проект не может быть принят с первого раза, если ревью содержит комментарии, рекомендующие доработать шаги.\n",
    "</div>\n",
    "<br/>\n",
    "    \n",
    "Чтобы наша с тобой работа была еще эффективнее, ты точно так же можешь оставлять комментарии и задавать мне вопросы. Для таких случаев, пожалуйста, выбери собственное оформление комментариев, которое будет отличаться от моего, чтобы не создавалась путаница. По этой же причине попрошу тебя не удалять и не изменять мои комментарии. **Также обрати внимание, что все три части работы (план, код, отчет) должны идти подряд в одном блокноте. Приступая к следующей части, пожалуйста, не удаляй и не изменяй предыдущие.** Все это позволит лучше ориентироваться в нашем с тобой диалоге, а повторную проверку (в случае ее необходимости) выполнять оперативнее 🚀\n",
    "\n",
    "Не спеши расстраиваться, если что-то не удалось с первого раза. Вместе мы обязательно разберемся со всеми трудностями! 🤓"
   ]
  },
  {
   "cell_type": "markdown",
   "id": "6f9b339c",
   "metadata": {},
   "source": [
    "# Проект \"Кто следущий?\""
   ]
  },
  {
   "cell_type": "markdown",
   "id": "2f3e2f2c",
   "metadata": {},
   "source": [
    "## Описание проекта\n",
    "\n",
    "Оператор связи «Ниединогоразрыва.ком» хочет научиться прогнозировать отток клиентов. Если выяснится, что пользователь планирует уйти, ему будут предложены промокоды и специальные условия. Команда оператора собрала персональные данные о некоторых клиентах, информацию об их тарифах и договорах.\n",
    "\n",
    "### Описание услуг\n",
    "\n",
    "Оператор предоставляет два основных типа услуг: \n",
    "\n",
    "1. Стационарную телефонную связь. Возможно подключение телефонного аппарата к нескольким линиям одновременно.\n",
    "2. Интернет. Подключение может быть двух типов: через телефонную линию (DSL*,* от англ. *digital subscriber line*, «цифровая абонентская линия») или оптоволоконный кабель (*Fiber optic*).  \n",
    "\n",
    "Также доступны такие услуги:\n",
    "\n",
    "- Интернет-безопасность: антивирус (*DeviceProtection*) и блокировка небезопасных сайтов (*OnlineSecurity*);\n",
    "- Выделенная линия технической поддержки (*TechSupport*);\n",
    "- Облачное хранилище файлов для резервного копирования данных (*OnlineBackup*);\n",
    "- Стриминговое телевидение (*StreamingTV*) и каталог фильмов (*StreamingMovies*).\n",
    "\n",
    "За услуги клиенты могут платить каждый месяц или заключить договор на 1–2 года. Доступны различные способы расчёта и возможность получения электронного чека.\n",
    "\n",
    "### Описание данных\n",
    "\n",
    "Данные состоят из файлов, полученных из разных источников:\n",
    "\n",
    "- `contract_new.csv` — информация о договоре;\n",
    "- `personal_new.csv` — персональные данные клиента;\n",
    "- `internet_new.csv` — информация об интернет-услугах;\n",
    "- `phone_new.csv` — информация об услугах телефонии.\n",
    "\n",
    "Во всех файлах столбец `customerID` содержит код клиента.\n",
    "\n",
    "Информация о договорах актуальна на 1 февраля 2020."
   ]
  },
  {
   "cell_type": "markdown",
   "id": "93e41984",
   "metadata": {},
   "source": [
    "<div class=\"alert alert-success\">\n",
    "<h3> Комментарий тимлида (план) <a class=\"tocSkip\"> </h3> \n",
    "    \n",
    "<b>Все отлично! 👍:</b> Очень хорошо, что оставляешь в начале проекта его описание! Любой, кто захочет взглянуть на работу, сможет сразу погрузиться в суть задачи :)"
   ]
  },
  {
   "cell_type": "markdown",
   "id": "5151fef5",
   "metadata": {},
   "source": [
    "### Цель проекта\n",
    "\n",
    "Создать модель, позволяющую на основе данных, предоставленных провайдером выявлять клиентов, которые потенциально могут расторгнуть договор обслуживания."
   ]
  },
  {
   "cell_type": "code",
   "execution_count": 2,
   "id": "68367cb4",
   "metadata": {
    "scrolled": true
   },
   "outputs": [],
   "source": [
    "#pip install skimpy -q"
   ]
  },
  {
   "cell_type": "markdown",
   "id": "c9036890",
   "metadata": {},
   "source": [
    "<div class=\"alert alert-warning\">\n",
    "<h3> Комментарий тимлида (план)<a class=\"tocSkip\"> </h3>\n",
    "    \n",
    "<b>Некоторые замечания и рекомендации💡:</b> Чтобы при установке не вылезала эта информация, в конце строки можно добавлять `-q`"
   ]
  },
  {
   "cell_type": "code",
   "execution_count": 3,
   "id": "ae1a71b1",
   "metadata": {},
   "outputs": [],
   "source": [
    "import re\n",
    "import pandas as pd\n",
    "import numpy as np\n",
    "import seaborn as sns\n",
    "import matplotlib.pyplot as plt\n",
    "from datetime import datetime, timedelta,date\n",
    "from scipy import stats as st\n",
    "from skimpy import clean_columns"
   ]
  },
  {
   "cell_type": "markdown",
   "id": "e380533b",
   "metadata": {},
   "source": [
    "## Загрузка и обзор данных"
   ]
  },
  {
   "cell_type": "markdown",
   "id": "0e7c9ed4",
   "metadata": {},
   "source": [
    "Данные будут загружены в следующие датафреймы:<br>\n",
    "\n",
    "**dc** - contract_new.csv — информация о договоре;<br>\n",
    "**dp** - personal_new.csv — персональные данные клиента;<br>\n",
    "**di** - internet_new.csv — информация об интернет-услугах;<br>\n",
    "**dph** - phone_new.csv — информация об услугах телефонии."
   ]
  },
  {
   "cell_type": "code",
   "execution_count": 4,
   "id": "f81a8b18",
   "metadata": {},
   "outputs": [],
   "source": [
    "try:    \n",
    "    dc = pd.read_csv('/datasets/contract_new.csv')\n",
    "    dp = pd.read_csv('/datasets/personal_new.csv')\n",
    "    di =  pd.read_csv('/datasets/internet_new.csv')\n",
    "    dph =  pd.read_csv('/datasets/phone_new.csv')\n",
    "except:\n",
    "    dc = pd.read_csv('https://code.s3.yandex.net/datasets/contract_new.csv')\n",
    "    dp = pd.read_csv('https://code.s3.yandex.net/datasets/personal_new.csv')\n",
    "    di =  pd.read_csv('https://code.s3.yandex.net/datasets/internet_new.csv')\n",
    "    dph =  pd.read_csv('https://code.s3.yandex.net/datasets/phone_new.csv')"
   ]
  },
  {
   "cell_type": "markdown",
   "id": "5e168636",
   "metadata": {},
   "source": [
    "#### Сбор информации о датафреймах"
   ]
  },
  {
   "cell_type": "code",
   "execution_count": 5,
   "id": "5a1e70e6",
   "metadata": {},
   "outputs": [
    {
     "name": "stdout",
     "output_type": "stream",
     "text": [
      "<class 'pandas.core.frame.DataFrame'>\n",
      "RangeIndex: 7043 entries, 0 to 7042\n",
      "Data columns (total 8 columns):\n",
      " #   Column            Non-Null Count  Dtype  \n",
      "---  ------            --------------  -----  \n",
      " 0   customerID        7043 non-null   object \n",
      " 1   BeginDate         7043 non-null   object \n",
      " 2   EndDate           7043 non-null   object \n",
      " 3   Type              7043 non-null   object \n",
      " 4   PaperlessBilling  7043 non-null   object \n",
      " 5   PaymentMethod     7043 non-null   object \n",
      " 6   MonthlyCharges    7043 non-null   float64\n",
      " 7   TotalCharges      7043 non-null   object \n",
      "dtypes: float64(1), object(7)\n",
      "memory usage: 440.3+ KB\n"
     ]
    }
   ],
   "source": [
    "dc.info()"
   ]
  },
  {
   "cell_type": "code",
   "execution_count": 6,
   "id": "15758d12",
   "metadata": {},
   "outputs": [
    {
     "name": "stdout",
     "output_type": "stream",
     "text": [
      "<class 'pandas.core.frame.DataFrame'>\n",
      "RangeIndex: 7043 entries, 0 to 7042\n",
      "Data columns (total 5 columns):\n",
      " #   Column         Non-Null Count  Dtype \n",
      "---  ------         --------------  ----- \n",
      " 0   customerID     7043 non-null   object\n",
      " 1   gender         7043 non-null   object\n",
      " 2   SeniorCitizen  7043 non-null   int64 \n",
      " 3   Partner        7043 non-null   object\n",
      " 4   Dependents     7043 non-null   object\n",
      "dtypes: int64(1), object(4)\n",
      "memory usage: 275.2+ KB\n"
     ]
    }
   ],
   "source": [
    "dp.info()"
   ]
  },
  {
   "cell_type": "code",
   "execution_count": 7,
   "id": "4d1d7d8a",
   "metadata": {},
   "outputs": [
    {
     "name": "stdout",
     "output_type": "stream",
     "text": [
      "<class 'pandas.core.frame.DataFrame'>\n",
      "RangeIndex: 5517 entries, 0 to 5516\n",
      "Data columns (total 8 columns):\n",
      " #   Column            Non-Null Count  Dtype \n",
      "---  ------            --------------  ----- \n",
      " 0   customerID        5517 non-null   object\n",
      " 1   InternetService   5517 non-null   object\n",
      " 2   OnlineSecurity    5517 non-null   object\n",
      " 3   OnlineBackup      5517 non-null   object\n",
      " 4   DeviceProtection  5517 non-null   object\n",
      " 5   TechSupport       5517 non-null   object\n",
      " 6   StreamingTV       5517 non-null   object\n",
      " 7   StreamingMovies   5517 non-null   object\n",
      "dtypes: object(8)\n",
      "memory usage: 344.9+ KB\n"
     ]
    }
   ],
   "source": [
    "di.info()"
   ]
  },
  {
   "cell_type": "code",
   "execution_count": 8,
   "id": "8f9a62ab",
   "metadata": {},
   "outputs": [
    {
     "name": "stdout",
     "output_type": "stream",
     "text": [
      "<class 'pandas.core.frame.DataFrame'>\n",
      "RangeIndex: 6361 entries, 0 to 6360\n",
      "Data columns (total 2 columns):\n",
      " #   Column         Non-Null Count  Dtype \n",
      "---  ------         --------------  ----- \n",
      " 0   customerID     6361 non-null   object\n",
      " 1   MultipleLines  6361 non-null   object\n",
      "dtypes: object(2)\n",
      "memory usage: 99.5+ KB\n"
     ]
    }
   ],
   "source": [
    "dph.info()"
   ]
  },
  {
   "cell_type": "code",
   "execution_count": 9,
   "id": "1185c7d1",
   "metadata": {},
   "outputs": [],
   "source": [
    "#example = \"ThisIsAGoodExample\"\n",
    "#print (re.sub( '(?<!^)(?=[A-Z])', '_', example ).lower())"
   ]
  },
  {
   "cell_type": "code",
   "execution_count": 10,
   "id": "2ec3e478",
   "metadata": {},
   "outputs": [],
   "source": [
    "#dc = clean_columns(dc)"
   ]
  },
  {
   "cell_type": "code",
   "execution_count": null,
   "id": "f327a208",
   "metadata": {},
   "outputs": [],
   "source": []
  },
  {
   "cell_type": "code",
   "execution_count": null,
   "id": "b27cfa75",
   "metadata": {},
   "outputs": [],
   "source": []
  },
  {
   "cell_type": "code",
   "execution_count": 11,
   "id": "489f0998",
   "metadata": {},
   "outputs": [
    {
     "data": {
      "text/html": [
       "<div>\n",
       "<style scoped>\n",
       "    .dataframe tbody tr th:only-of-type {\n",
       "        vertical-align: middle;\n",
       "    }\n",
       "\n",
       "    .dataframe tbody tr th {\n",
       "        vertical-align: top;\n",
       "    }\n",
       "\n",
       "    .dataframe thead th {\n",
       "        text-align: right;\n",
       "    }\n",
       "</style>\n",
       "<table border=\"1\" class=\"dataframe\">\n",
       "  <thead>\n",
       "    <tr style=\"text-align: right;\">\n",
       "      <th></th>\n",
       "      <th>customerID</th>\n",
       "      <th>BeginDate</th>\n",
       "      <th>EndDate</th>\n",
       "      <th>Type</th>\n",
       "      <th>PaperlessBilling</th>\n",
       "      <th>PaymentMethod</th>\n",
       "      <th>MonthlyCharges</th>\n",
       "      <th>TotalCharges</th>\n",
       "    </tr>\n",
       "  </thead>\n",
       "  <tbody>\n",
       "    <tr>\n",
       "      <th>0</th>\n",
       "      <td>7590-VHVEG</td>\n",
       "      <td>2020-01-01</td>\n",
       "      <td>No</td>\n",
       "      <td>Month-to-month</td>\n",
       "      <td>Yes</td>\n",
       "      <td>Electronic check</td>\n",
       "      <td>29.85</td>\n",
       "      <td>31.04</td>\n",
       "    </tr>\n",
       "    <tr>\n",
       "      <th>1</th>\n",
       "      <td>5575-GNVDE</td>\n",
       "      <td>2017-04-01</td>\n",
       "      <td>No</td>\n",
       "      <td>One year</td>\n",
       "      <td>No</td>\n",
       "      <td>Mailed check</td>\n",
       "      <td>56.95</td>\n",
       "      <td>2071.84</td>\n",
       "    </tr>\n",
       "    <tr>\n",
       "      <th>2</th>\n",
       "      <td>3668-QPYBK</td>\n",
       "      <td>2019-10-01</td>\n",
       "      <td>No</td>\n",
       "      <td>Month-to-month</td>\n",
       "      <td>Yes</td>\n",
       "      <td>Mailed check</td>\n",
       "      <td>53.85</td>\n",
       "      <td>226.17</td>\n",
       "    </tr>\n",
       "    <tr>\n",
       "      <th>3</th>\n",
       "      <td>7795-CFOCW</td>\n",
       "      <td>2016-05-01</td>\n",
       "      <td>No</td>\n",
       "      <td>One year</td>\n",
       "      <td>No</td>\n",
       "      <td>Bank transfer (automatic)</td>\n",
       "      <td>42.30</td>\n",
       "      <td>1960.6</td>\n",
       "    </tr>\n",
       "    <tr>\n",
       "      <th>4</th>\n",
       "      <td>9237-HQITU</td>\n",
       "      <td>2019-09-01</td>\n",
       "      <td>No</td>\n",
       "      <td>Month-to-month</td>\n",
       "      <td>Yes</td>\n",
       "      <td>Electronic check</td>\n",
       "      <td>70.70</td>\n",
       "      <td>353.5</td>\n",
       "    </tr>\n",
       "  </tbody>\n",
       "</table>\n",
       "</div>"
      ],
      "text/plain": [
       "   customerID   BeginDate EndDate            Type PaperlessBilling  \\\n",
       "0  7590-VHVEG  2020-01-01      No  Month-to-month              Yes   \n",
       "1  5575-GNVDE  2017-04-01      No        One year               No   \n",
       "2  3668-QPYBK  2019-10-01      No  Month-to-month              Yes   \n",
       "3  7795-CFOCW  2016-05-01      No        One year               No   \n",
       "4  9237-HQITU  2019-09-01      No  Month-to-month              Yes   \n",
       "\n",
       "               PaymentMethod  MonthlyCharges TotalCharges  \n",
       "0           Electronic check           29.85        31.04  \n",
       "1               Mailed check           56.95      2071.84  \n",
       "2               Mailed check           53.85       226.17  \n",
       "3  Bank transfer (automatic)           42.30       1960.6  \n",
       "4           Electronic check           70.70        353.5  "
      ]
     },
     "execution_count": 11,
     "metadata": {},
     "output_type": "execute_result"
    }
   ],
   "source": [
    "dc.head()"
   ]
  },
  {
   "cell_type": "code",
   "execution_count": 12,
   "id": "21f7267c",
   "metadata": {},
   "outputs": [
    {
     "data": {
      "text/html": [
       "<div>\n",
       "<style scoped>\n",
       "    .dataframe tbody tr th:only-of-type {\n",
       "        vertical-align: middle;\n",
       "    }\n",
       "\n",
       "    .dataframe tbody tr th {\n",
       "        vertical-align: top;\n",
       "    }\n",
       "\n",
       "    .dataframe thead th {\n",
       "        text-align: right;\n",
       "    }\n",
       "</style>\n",
       "<table border=\"1\" class=\"dataframe\">\n",
       "  <thead>\n",
       "    <tr style=\"text-align: right;\">\n",
       "      <th></th>\n",
       "      <th>customerID</th>\n",
       "      <th>gender</th>\n",
       "      <th>SeniorCitizen</th>\n",
       "      <th>Partner</th>\n",
       "      <th>Dependents</th>\n",
       "    </tr>\n",
       "  </thead>\n",
       "  <tbody>\n",
       "    <tr>\n",
       "      <th>0</th>\n",
       "      <td>7590-VHVEG</td>\n",
       "      <td>Female</td>\n",
       "      <td>0</td>\n",
       "      <td>Yes</td>\n",
       "      <td>No</td>\n",
       "    </tr>\n",
       "    <tr>\n",
       "      <th>1</th>\n",
       "      <td>5575-GNVDE</td>\n",
       "      <td>Male</td>\n",
       "      <td>0</td>\n",
       "      <td>No</td>\n",
       "      <td>No</td>\n",
       "    </tr>\n",
       "    <tr>\n",
       "      <th>2</th>\n",
       "      <td>3668-QPYBK</td>\n",
       "      <td>Male</td>\n",
       "      <td>0</td>\n",
       "      <td>No</td>\n",
       "      <td>No</td>\n",
       "    </tr>\n",
       "    <tr>\n",
       "      <th>3</th>\n",
       "      <td>7795-CFOCW</td>\n",
       "      <td>Male</td>\n",
       "      <td>0</td>\n",
       "      <td>No</td>\n",
       "      <td>No</td>\n",
       "    </tr>\n",
       "    <tr>\n",
       "      <th>4</th>\n",
       "      <td>9237-HQITU</td>\n",
       "      <td>Female</td>\n",
       "      <td>0</td>\n",
       "      <td>No</td>\n",
       "      <td>No</td>\n",
       "    </tr>\n",
       "  </tbody>\n",
       "</table>\n",
       "</div>"
      ],
      "text/plain": [
       "   customerID  gender  SeniorCitizen Partner Dependents\n",
       "0  7590-VHVEG  Female              0     Yes         No\n",
       "1  5575-GNVDE    Male              0      No         No\n",
       "2  3668-QPYBK    Male              0      No         No\n",
       "3  7795-CFOCW    Male              0      No         No\n",
       "4  9237-HQITU  Female              0      No         No"
      ]
     },
     "execution_count": 12,
     "metadata": {},
     "output_type": "execute_result"
    }
   ],
   "source": [
    "dp.head()"
   ]
  },
  {
   "cell_type": "code",
   "execution_count": 13,
   "id": "145e7020",
   "metadata": {},
   "outputs": [
    {
     "data": {
      "text/html": [
       "<div>\n",
       "<style scoped>\n",
       "    .dataframe tbody tr th:only-of-type {\n",
       "        vertical-align: middle;\n",
       "    }\n",
       "\n",
       "    .dataframe tbody tr th {\n",
       "        vertical-align: top;\n",
       "    }\n",
       "\n",
       "    .dataframe thead th {\n",
       "        text-align: right;\n",
       "    }\n",
       "</style>\n",
       "<table border=\"1\" class=\"dataframe\">\n",
       "  <thead>\n",
       "    <tr style=\"text-align: right;\">\n",
       "      <th></th>\n",
       "      <th>customerID</th>\n",
       "      <th>InternetService</th>\n",
       "      <th>OnlineSecurity</th>\n",
       "      <th>OnlineBackup</th>\n",
       "      <th>DeviceProtection</th>\n",
       "      <th>TechSupport</th>\n",
       "      <th>StreamingTV</th>\n",
       "      <th>StreamingMovies</th>\n",
       "    </tr>\n",
       "  </thead>\n",
       "  <tbody>\n",
       "    <tr>\n",
       "      <th>0</th>\n",
       "      <td>7590-VHVEG</td>\n",
       "      <td>DSL</td>\n",
       "      <td>No</td>\n",
       "      <td>Yes</td>\n",
       "      <td>No</td>\n",
       "      <td>No</td>\n",
       "      <td>No</td>\n",
       "      <td>No</td>\n",
       "    </tr>\n",
       "    <tr>\n",
       "      <th>1</th>\n",
       "      <td>5575-GNVDE</td>\n",
       "      <td>DSL</td>\n",
       "      <td>Yes</td>\n",
       "      <td>No</td>\n",
       "      <td>Yes</td>\n",
       "      <td>No</td>\n",
       "      <td>No</td>\n",
       "      <td>No</td>\n",
       "    </tr>\n",
       "    <tr>\n",
       "      <th>2</th>\n",
       "      <td>3668-QPYBK</td>\n",
       "      <td>DSL</td>\n",
       "      <td>Yes</td>\n",
       "      <td>Yes</td>\n",
       "      <td>No</td>\n",
       "      <td>No</td>\n",
       "      <td>No</td>\n",
       "      <td>No</td>\n",
       "    </tr>\n",
       "    <tr>\n",
       "      <th>3</th>\n",
       "      <td>7795-CFOCW</td>\n",
       "      <td>DSL</td>\n",
       "      <td>Yes</td>\n",
       "      <td>No</td>\n",
       "      <td>Yes</td>\n",
       "      <td>Yes</td>\n",
       "      <td>No</td>\n",
       "      <td>No</td>\n",
       "    </tr>\n",
       "    <tr>\n",
       "      <th>4</th>\n",
       "      <td>9237-HQITU</td>\n",
       "      <td>Fiber optic</td>\n",
       "      <td>No</td>\n",
       "      <td>No</td>\n",
       "      <td>No</td>\n",
       "      <td>No</td>\n",
       "      <td>No</td>\n",
       "      <td>No</td>\n",
       "    </tr>\n",
       "  </tbody>\n",
       "</table>\n",
       "</div>"
      ],
      "text/plain": [
       "   customerID InternetService OnlineSecurity OnlineBackup DeviceProtection  \\\n",
       "0  7590-VHVEG             DSL             No          Yes               No   \n",
       "1  5575-GNVDE             DSL            Yes           No              Yes   \n",
       "2  3668-QPYBK             DSL            Yes          Yes               No   \n",
       "3  7795-CFOCW             DSL            Yes           No              Yes   \n",
       "4  9237-HQITU     Fiber optic             No           No               No   \n",
       "\n",
       "  TechSupport StreamingTV StreamingMovies  \n",
       "0          No          No              No  \n",
       "1          No          No              No  \n",
       "2          No          No              No  \n",
       "3         Yes          No              No  \n",
       "4          No          No              No  "
      ]
     },
     "execution_count": 13,
     "metadata": {},
     "output_type": "execute_result"
    }
   ],
   "source": [
    "di.head()"
   ]
  },
  {
   "cell_type": "code",
   "execution_count": 14,
   "id": "b3acddbd",
   "metadata": {},
   "outputs": [
    {
     "data": {
      "text/html": [
       "<div>\n",
       "<style scoped>\n",
       "    .dataframe tbody tr th:only-of-type {\n",
       "        vertical-align: middle;\n",
       "    }\n",
       "\n",
       "    .dataframe tbody tr th {\n",
       "        vertical-align: top;\n",
       "    }\n",
       "\n",
       "    .dataframe thead th {\n",
       "        text-align: right;\n",
       "    }\n",
       "</style>\n",
       "<table border=\"1\" class=\"dataframe\">\n",
       "  <thead>\n",
       "    <tr style=\"text-align: right;\">\n",
       "      <th></th>\n",
       "      <th>customerID</th>\n",
       "      <th>MultipleLines</th>\n",
       "    </tr>\n",
       "  </thead>\n",
       "  <tbody>\n",
       "    <tr>\n",
       "      <th>0</th>\n",
       "      <td>5575-GNVDE</td>\n",
       "      <td>No</td>\n",
       "    </tr>\n",
       "    <tr>\n",
       "      <th>1</th>\n",
       "      <td>3668-QPYBK</td>\n",
       "      <td>No</td>\n",
       "    </tr>\n",
       "    <tr>\n",
       "      <th>2</th>\n",
       "      <td>9237-HQITU</td>\n",
       "      <td>No</td>\n",
       "    </tr>\n",
       "    <tr>\n",
       "      <th>3</th>\n",
       "      <td>9305-CDSKC</td>\n",
       "      <td>Yes</td>\n",
       "    </tr>\n",
       "    <tr>\n",
       "      <th>4</th>\n",
       "      <td>1452-KIOVK</td>\n",
       "      <td>Yes</td>\n",
       "    </tr>\n",
       "  </tbody>\n",
       "</table>\n",
       "</div>"
      ],
      "text/plain": [
       "   customerID MultipleLines\n",
       "0  5575-GNVDE            No\n",
       "1  3668-QPYBK            No\n",
       "2  9237-HQITU            No\n",
       "3  9305-CDSKC           Yes\n",
       "4  1452-KIOVK           Yes"
      ]
     },
     "execution_count": 14,
     "metadata": {},
     "output_type": "execute_result"
    }
   ],
   "source": [
    "dph.head()"
   ]
  },
  {
   "cell_type": "markdown",
   "id": "8ff946ed",
   "metadata": {},
   "source": [
    "#### Проверка на дубликаты"
   ]
  },
  {
   "cell_type": "markdown",
   "id": "d8b08e60",
   "metadata": {},
   "source": [
    "Во всех полях, кроме **customerID** сведения могут совпадать, поэтому проверке на дубликаты подвергается только **customerID**"
   ]
  },
  {
   "cell_type": "code",
   "execution_count": 15,
   "id": "daa9e6f2",
   "metadata": {},
   "outputs": [
    {
     "data": {
      "text/plain": [
       "0"
      ]
     },
     "execution_count": 15,
     "metadata": {},
     "output_type": "execute_result"
    }
   ],
   "source": [
    "dc.duplicated(['customerID']).sum()"
   ]
  },
  {
   "cell_type": "code",
   "execution_count": 16,
   "id": "c92c58e2",
   "metadata": {},
   "outputs": [
    {
     "data": {
      "text/plain": [
       "0"
      ]
     },
     "execution_count": 16,
     "metadata": {},
     "output_type": "execute_result"
    }
   ],
   "source": [
    "dp.duplicated(['customerID']).sum()"
   ]
  },
  {
   "cell_type": "code",
   "execution_count": 17,
   "id": "1057386e",
   "metadata": {},
   "outputs": [
    {
     "data": {
      "text/plain": [
       "0"
      ]
     },
     "execution_count": 17,
     "metadata": {},
     "output_type": "execute_result"
    }
   ],
   "source": [
    "di.duplicated(['customerID']).sum()"
   ]
  },
  {
   "cell_type": "code",
   "execution_count": 18,
   "id": "4220a13d",
   "metadata": {},
   "outputs": [
    {
     "data": {
      "text/plain": [
       "0"
      ]
     },
     "execution_count": 18,
     "metadata": {},
     "output_type": "execute_result"
    }
   ],
   "source": [
    "dph.duplicated(['customerID']).sum()"
   ]
  },
  {
   "cell_type": "markdown",
   "id": "ad93b886",
   "metadata": {},
   "source": [
    "Проверка поля TotalCharges"
   ]
  },
  {
   "cell_type": "code",
   "execution_count": 19,
   "id": "3877b15b",
   "metadata": {},
   "outputs": [
    {
     "data": {
      "text/html": [
       "<div>\n",
       "<style scoped>\n",
       "    .dataframe tbody tr th:only-of-type {\n",
       "        vertical-align: middle;\n",
       "    }\n",
       "\n",
       "    .dataframe tbody tr th {\n",
       "        vertical-align: top;\n",
       "    }\n",
       "\n",
       "    .dataframe thead th {\n",
       "        text-align: right;\n",
       "    }\n",
       "</style>\n",
       "<table border=\"1\" class=\"dataframe\">\n",
       "  <thead>\n",
       "    <tr style=\"text-align: right;\">\n",
       "      <th></th>\n",
       "      <th>customerID</th>\n",
       "      <th>BeginDate</th>\n",
       "      <th>EndDate</th>\n",
       "      <th>Type</th>\n",
       "      <th>PaperlessBilling</th>\n",
       "      <th>PaymentMethod</th>\n",
       "      <th>MonthlyCharges</th>\n",
       "      <th>TotalCharges</th>\n",
       "    </tr>\n",
       "  </thead>\n",
       "  <tbody>\n",
       "    <tr>\n",
       "      <th>488</th>\n",
       "      <td>4472-LVYGI</td>\n",
       "      <td>2020-02-01</td>\n",
       "      <td>No</td>\n",
       "      <td>Two year</td>\n",
       "      <td>Yes</td>\n",
       "      <td>Bank transfer (automatic)</td>\n",
       "      <td>52.55</td>\n",
       "      <td></td>\n",
       "    </tr>\n",
       "    <tr>\n",
       "      <th>753</th>\n",
       "      <td>3115-CZMZD</td>\n",
       "      <td>2020-02-01</td>\n",
       "      <td>No</td>\n",
       "      <td>Two year</td>\n",
       "      <td>No</td>\n",
       "      <td>Mailed check</td>\n",
       "      <td>20.25</td>\n",
       "      <td></td>\n",
       "    </tr>\n",
       "    <tr>\n",
       "      <th>936</th>\n",
       "      <td>5709-LVOEQ</td>\n",
       "      <td>2020-02-01</td>\n",
       "      <td>No</td>\n",
       "      <td>Two year</td>\n",
       "      <td>No</td>\n",
       "      <td>Mailed check</td>\n",
       "      <td>80.85</td>\n",
       "      <td></td>\n",
       "    </tr>\n",
       "    <tr>\n",
       "      <th>1082</th>\n",
       "      <td>4367-NUYAO</td>\n",
       "      <td>2020-02-01</td>\n",
       "      <td>No</td>\n",
       "      <td>Two year</td>\n",
       "      <td>No</td>\n",
       "      <td>Mailed check</td>\n",
       "      <td>25.75</td>\n",
       "      <td></td>\n",
       "    </tr>\n",
       "    <tr>\n",
       "      <th>1340</th>\n",
       "      <td>1371-DWPAZ</td>\n",
       "      <td>2020-02-01</td>\n",
       "      <td>No</td>\n",
       "      <td>Two year</td>\n",
       "      <td>No</td>\n",
       "      <td>Credit card (automatic)</td>\n",
       "      <td>56.05</td>\n",
       "      <td></td>\n",
       "    </tr>\n",
       "    <tr>\n",
       "      <th>3331</th>\n",
       "      <td>7644-OMVMY</td>\n",
       "      <td>2020-02-01</td>\n",
       "      <td>No</td>\n",
       "      <td>Two year</td>\n",
       "      <td>No</td>\n",
       "      <td>Mailed check</td>\n",
       "      <td>19.85</td>\n",
       "      <td></td>\n",
       "    </tr>\n",
       "    <tr>\n",
       "      <th>3826</th>\n",
       "      <td>3213-VVOLG</td>\n",
       "      <td>2020-02-01</td>\n",
       "      <td>No</td>\n",
       "      <td>Two year</td>\n",
       "      <td>No</td>\n",
       "      <td>Mailed check</td>\n",
       "      <td>25.35</td>\n",
       "      <td></td>\n",
       "    </tr>\n",
       "    <tr>\n",
       "      <th>4380</th>\n",
       "      <td>2520-SGTTA</td>\n",
       "      <td>2020-02-01</td>\n",
       "      <td>No</td>\n",
       "      <td>Two year</td>\n",
       "      <td>No</td>\n",
       "      <td>Mailed check</td>\n",
       "      <td>20.00</td>\n",
       "      <td></td>\n",
       "    </tr>\n",
       "    <tr>\n",
       "      <th>5218</th>\n",
       "      <td>2923-ARZLG</td>\n",
       "      <td>2020-02-01</td>\n",
       "      <td>No</td>\n",
       "      <td>One year</td>\n",
       "      <td>Yes</td>\n",
       "      <td>Mailed check</td>\n",
       "      <td>19.70</td>\n",
       "      <td></td>\n",
       "    </tr>\n",
       "    <tr>\n",
       "      <th>6670</th>\n",
       "      <td>4075-WKNIU</td>\n",
       "      <td>2020-02-01</td>\n",
       "      <td>No</td>\n",
       "      <td>Two year</td>\n",
       "      <td>No</td>\n",
       "      <td>Mailed check</td>\n",
       "      <td>73.35</td>\n",
       "      <td></td>\n",
       "    </tr>\n",
       "    <tr>\n",
       "      <th>6754</th>\n",
       "      <td>2775-SEFEE</td>\n",
       "      <td>2020-02-01</td>\n",
       "      <td>No</td>\n",
       "      <td>Two year</td>\n",
       "      <td>Yes</td>\n",
       "      <td>Bank transfer (automatic)</td>\n",
       "      <td>61.90</td>\n",
       "      <td></td>\n",
       "    </tr>\n",
       "  </tbody>\n",
       "</table>\n",
       "</div>"
      ],
      "text/plain": [
       "      customerID   BeginDate EndDate      Type PaperlessBilling  \\\n",
       "488   4472-LVYGI  2020-02-01      No  Two year              Yes   \n",
       "753   3115-CZMZD  2020-02-01      No  Two year               No   \n",
       "936   5709-LVOEQ  2020-02-01      No  Two year               No   \n",
       "1082  4367-NUYAO  2020-02-01      No  Two year               No   \n",
       "1340  1371-DWPAZ  2020-02-01      No  Two year               No   \n",
       "3331  7644-OMVMY  2020-02-01      No  Two year               No   \n",
       "3826  3213-VVOLG  2020-02-01      No  Two year               No   \n",
       "4380  2520-SGTTA  2020-02-01      No  Two year               No   \n",
       "5218  2923-ARZLG  2020-02-01      No  One year              Yes   \n",
       "6670  4075-WKNIU  2020-02-01      No  Two year               No   \n",
       "6754  2775-SEFEE  2020-02-01      No  Two year              Yes   \n",
       "\n",
       "                  PaymentMethod  MonthlyCharges TotalCharges  \n",
       "488   Bank transfer (automatic)           52.55               \n",
       "753                Mailed check           20.25               \n",
       "936                Mailed check           80.85               \n",
       "1082               Mailed check           25.75               \n",
       "1340    Credit card (automatic)           56.05               \n",
       "3331               Mailed check           19.85               \n",
       "3826               Mailed check           25.35               \n",
       "4380               Mailed check           20.00               \n",
       "5218               Mailed check           19.70               \n",
       "6670               Mailed check           73.35               \n",
       "6754  Bank transfer (automatic)           61.90               "
      ]
     },
     "execution_count": 19,
     "metadata": {},
     "output_type": "execute_result"
    }
   ],
   "source": [
    "dc[dc['TotalCharges'].str.contains(\" \")]"
   ]
  },
  {
   "cell_type": "markdown",
   "id": "46a2d661",
   "metadata": {},
   "source": [
    "Сведения отсутствуют в связи с отсуствием оплаты по договору, который был заключен в день предоставления данных заказчиком (01 февраля 2020 года).<br>\n",
    "\n",
    "<del>Эти данные можно удалить в связи с их ничтожным влиянием на общую картину</del>"
   ]
  },
  {
   "cell_type": "markdown",
   "id": "44e7b333",
   "metadata": {},
   "source": [
    "<div class=\"alert alert-info\">\n",
    "<b>Доработка:</b>\n",
    "<br>\n",
    "Отсутствующие данные в <b>MonthlyCharges</b> заполним помесячной оплатой\n",
    "</div>"
   ]
  },
  {
   "cell_type": "markdown",
   "id": "a5a35723",
   "metadata": {},
   "source": [
    "<div class=\"alert alert-warning\">\n",
    "<h3> Комментарий тимлида (план) <a class=\"tocSkip\"> </h3>\n",
    "    \n",
    "<b>Некоторые замечания и рекомендации💡:</b> Удаление - тоже приемлемый вариант, но я больше все-таки склоняюсь к заполнению ежемесячной оплатой. Почему не совсем поддерживаю удаление: на практике вероятнее всего через нашу модель регулярно будут пропускаться абсолютно все действующие клиенты, если мы удалим из выборки всех новых клиентов и при этом выберем модели на основе деревьев, может случиться так, что из-за плохой масштабируемости деревьев наша модель на новых клиентах будет работать не совсем так, как мы того ожидаем."
   ]
  },
  {
   "cell_type": "markdown",
   "id": "b940de4f",
   "metadata": {},
   "source": [
    "<div class=\"alert alert-info\">\n",
    "<b>Доработка:</b>\n",
    "<br>"
   ]
  },
  {
   "cell_type": "markdown",
   "id": "c1252656",
   "metadata": {},
   "source": [
    "Аномальные значения в столбцах"
   ]
  },
  {
   "cell_type": "code",
   "execution_count": 20,
   "id": "7ceb798d",
   "metadata": {},
   "outputs": [
    {
     "name": "stdout",
     "output_type": "stream",
     "text": [
      "['7590-VHVEG' '5575-GNVDE' '3668-QPYBK' ... '4801-JZAZL' '8361-LTMKD'\n",
      " '3186-AJIEK']\n",
      "['2020-01-01' '2017-04-01' '2019-10-01' '2016-05-01' '2019-09-01'\n",
      " '2019-03-01' '2018-04-01' '2019-04-01' '2017-07-01' '2014-12-01'\n",
      " '2019-01-01' '2018-10-01' '2015-04-01' '2015-09-01' '2018-01-01'\n",
      " '2014-05-01' '2015-10-01' '2014-03-01' '2018-05-01' '2019-11-01'\n",
      " '2019-02-01' '2016-01-01' '2017-08-01' '2015-12-01' '2014-02-01'\n",
      " '2018-06-01' '2019-12-01' '2017-11-01' '2019-06-01' '2016-04-01'\n",
      " '2017-02-01' '2018-12-01' '2014-04-01' '2018-09-01' '2014-11-01'\n",
      " '2016-07-01' '2015-02-01' '2018-07-01' '2014-08-01' '2016-03-01'\n",
      " '2018-08-01' '2014-10-01' '2015-06-01' '2016-08-01' '2019-05-01'\n",
      " '2017-03-01' '2016-02-01' '2017-09-01' '2014-09-01' '2017-12-01'\n",
      " '2016-12-01' '2017-06-01' '2015-05-01' '2016-10-01' '2016-09-01'\n",
      " '2019-08-01' '2019-07-01' '2017-05-01' '2017-10-01' '2014-07-01'\n",
      " '2018-03-01' '2015-01-01' '2018-11-01' '2015-03-01' '2018-02-01'\n",
      " '2016-06-01' '2015-08-01' '2015-11-01' '2014-06-01' '2017-01-01'\n",
      " '2015-07-01' '2020-02-01' '2016-11-01' '2013-11-01' '2014-01-01'\n",
      " '2013-10-01' '2013-12-01']\n",
      "['No' '2017-05-01' '2016-03-01' '2018-09-01' '2018-11-01' '2018-12-01'\n",
      " '2019-08-01' '2018-07-01' '2017-09-01' '2015-09-01' '2016-07-01'\n",
      " '2016-06-01' '2018-03-01' '2019-02-01' '2018-06-01' '2019-06-01'\n",
      " '2020-01-01' '2019-11-01' '2016-09-01' '2015-06-01' '2016-12-01'\n",
      " '2019-05-01' '2019-04-01' '2017-06-01' '2017-08-01' '2018-04-01'\n",
      " '2018-08-01' '2018-02-01' '2019-07-01' '2015-12-01' '2014-06-01'\n",
      " '2018-10-01' '2019-01-01' '2017-07-01' '2017-12-01' '2018-05-01'\n",
      " '2015-11-01' '2019-10-01' '2019-03-01' '2016-02-01' '2016-10-01'\n",
      " '2018-01-01' '2017-11-01' '2015-10-01' '2019-12-01' '2015-07-01'\n",
      " '2017-04-01' '2015-02-01' '2017-03-01' '2016-05-01' '2016-11-01'\n",
      " '2015-08-01' '2019-09-01' '2017-10-01' '2017-02-01' '2016-08-01'\n",
      " '2016-04-01' '2015-05-01' '2014-09-01' '2014-10-01' '2017-01-01'\n",
      " '2015-03-01' '2015-01-01' '2016-01-01' '2015-04-01' '2014-12-01'\n",
      " '2014-11-01']\n",
      "['Month-to-month' 'One year' 'Two year']\n",
      "['Yes' 'No']\n",
      "['Electronic check' 'Mailed check' 'Bank transfer (automatic)'\n",
      " 'Credit card (automatic)']\n",
      "[29.85 56.95 53.85 ... 63.1  44.2  78.7 ]\n",
      "['31.04' '2071.84' '226.17' ... '325.6' '520.8' '7251.82']\n"
     ]
    }
   ],
   "source": [
    "for n in dc.columns:\n",
    "    print(dc[n].unique())"
   ]
  },
  {
   "cell_type": "code",
   "execution_count": 21,
   "id": "6fe7ab3d",
   "metadata": {},
   "outputs": [
    {
     "name": "stdout",
     "output_type": "stream",
     "text": [
      "['7590-VHVEG' '5575-GNVDE' '3668-QPYBK' ... '4801-JZAZL' '8361-LTMKD'\n",
      " '3186-AJIEK']\n",
      "['Female' 'Male']\n",
      "[0 1]\n",
      "['Yes' 'No']\n",
      "['No' 'Yes']\n"
     ]
    }
   ],
   "source": [
    "for n in dp.columns:\n",
    "    print(dp[n].unique())"
   ]
  },
  {
   "cell_type": "code",
   "execution_count": 22,
   "id": "e5dcfeb4",
   "metadata": {},
   "outputs": [
    {
     "name": "stdout",
     "output_type": "stream",
     "text": [
      "['7590-VHVEG' '5575-GNVDE' '3668-QPYBK' ... '4801-JZAZL' '8361-LTMKD'\n",
      " '3186-AJIEK']\n",
      "['DSL' 'Fiber optic']\n",
      "['No' 'Yes']\n",
      "['Yes' 'No']\n",
      "['No' 'Yes']\n",
      "['No' 'Yes']\n",
      "['No' 'Yes']\n",
      "['No' 'Yes']\n"
     ]
    }
   ],
   "source": [
    "for n in di.columns:\n",
    "    print(di[n].unique())"
   ]
  },
  {
   "cell_type": "code",
   "execution_count": 23,
   "id": "eca286b1",
   "metadata": {},
   "outputs": [
    {
     "name": "stdout",
     "output_type": "stream",
     "text": [
      "['5575-GNVDE' '3668-QPYBK' '9237-HQITU' ... '2234-XADUH' '8361-LTMKD'\n",
      " '3186-AJIEK']\n",
      "['No' 'Yes']\n"
     ]
    }
   ],
   "source": [
    "for n in dph.columns:\n",
    "    print(dph[n].unique())"
   ]
  },
  {
   "cell_type": "markdown",
   "id": "906c0ab7",
   "metadata": {},
   "source": [
    " Нетипичных категорий в категориальных признаках не выявлено"
   ]
  },
  {
   "cell_type": "markdown",
   "id": "4fd87c6d",
   "metadata": {},
   "source": [
    "Аномальные значения в числовх данных будут рассмотрены позже после предобработки"
   ]
  },
  {
   "cell_type": "markdown",
   "id": "6101c545",
   "metadata": {},
   "source": [
    "### Вывод (обзор данных)"
   ]
  },
  {
   "cell_type": "markdown",
   "id": "8e9a93d8",
   "metadata": {},
   "source": [
    "Исходные датафреймы пропусков и дубликатов не имеют.<br>\n",
    "Аномальных и нетипичных значений не выявлено<br>\n",
    "Таблицы dc и dp имеют одинаковое количество записей, поэтому, возможно, в них содержатся сведения об одних и тех же абонентах. Точнее можно будет сказать при объединении таблиц.<br>\n",
    "В таблице dc поле **BeginDate** требуется привести к типу **data**. **TotalCharges** необходимо привести к **float**, предварительно удалив строки, содержащие пробелы (договор только что заключен и не оплачен)<br>\n",
    "По всей видимости, данные экспортировались неправильно из какой-либо базы данных.<br>\n",
    "Наименования столбцов необходимо привести к нижнему регистру с нижним подчеркиванием.<br>\n",
    "\n",
    "\n",
    "В качестве целевого признака необходимо будет создать отдельный бинарный столбец на основе **EndDate**, в котором 1 - наличие договора о расторжении, 0 - в противном случае.<br>\n",
    "Необходимо создать поле c количеством дней, прошедших с момента заключения договора, до даты 1 февраля 2020. На его основе, в частности можно будет проверить аномальные сроки действия договоров<br>\n",
    "\n",
    "Для дальнейшего анализа данных и последущего моделирования необходимо будет исходные датафреймы объединять по **customerID**<br>\n",
    "\n",
    "После слияния и заполнения пропусков бинарные значения Yes и No заменить на 0, 1"
   ]
  },
  {
   "cell_type": "markdown",
   "id": "45464d68",
   "metadata": {},
   "source": [
    "<div class=\"alert alert-warning\">\n",
    "<h3> Комментарий тимлида (план)<a class=\"tocSkip\"> </h3>\n",
    "    \n",
    "<b>Некоторые замечания и рекомендации💡:</b> При первичном анализе также важно проверить наличие каких-то ошибок: явно выбывающихся значений в числовых признаках и нетипичных категорий в категориальных."
   ]
  },
  {
   "cell_type": "markdown",
   "id": "9b0d3edc",
   "metadata": {},
   "source": [
    "### План работы"
   ]
  },
  {
   "cell_type": "markdown",
   "id": "f8fe2233",
   "metadata": {},
   "source": [
    "1. Предобработка данных и конструирование новых признаков <br>\n",
    "\n",
    "Выполнить обработку имен столбцов, работа с типами данных, удаление дубликатов, создание новых столбцов, слияние таблиц (merge), заполнение образовавшихся пропусков"
   ]
  },
  {
   "cell_type": "markdown",
   "id": "663e350e",
   "metadata": {},
   "source": [
    "2. Исследовательский анализ данных (EDA)<br>\n",
    "\n",
    "Выявление закономерностей функционирования системы данных, которые, возможно, позволят выявить существенные признаки, потенциально оказывающих влияние на построение модели (построение \"портрета\" клиента, баланс классов, развитие структуры в динамике, построение визуализаций)"
   ]
  },
  {
   "cell_type": "markdown",
   "id": "6af5b123",
   "metadata": {},
   "source": [
    "3. Исследование мультиколлинеарности<br>\n",
    "\n",
    "Выявление зависимости между признаками, коллинеарность признаков с целевым признаком<br>\n",
    "На основе этого отбираем признаки для модели (future selection), можно дополнитель но применить F-test\n",
    "\n"
   ]
  },
  {
   "cell_type": "markdown",
   "id": "a5622732",
   "metadata": {},
   "source": [
    "4. Разделение данных на выборки<br>\n",
    "\n",
    "Так как будет использоваться GridSearch, то данные будут разбиты на **тренировочную** и **тестовую** выборки в отношении 3:1<br>\n",
    "Кодирование признаков (OHE)<br>\n",
    "Масштабирование признаков\n",
    "\n"
   ]
  },
  {
   "cell_type": "markdown",
   "id": "44422282",
   "metadata": {},
   "source": [
    "5. Обучение моделей с подбором параметров \n",
    "\n",
    "LogisticRegression<br>\n",
    "RandomForestClassifier<br>\n",
    "\n",
    "для подбора параметра использовать GridSearchCV\n",
    "\n"
   ]
  },
  {
   "cell_type": "markdown",
   "id": "67f29a3c",
   "metadata": {},
   "source": [
    "6. Выбор лучшей модели по кросс-валидационной выборке\n",
    "\n",
    "В качестве метрики используется ROC-AUC"
   ]
  },
  {
   "cell_type": "markdown",
   "id": "32806171",
   "metadata": {},
   "source": [
    "7. Тестирование модели<br>\n",
    "\n",
    "Выполнить тестирование модели на тестовой выборке<br>\n",
    "проверить на адекватность (можно по ROC - кривой)\n",
    "\n"
   ]
  },
  {
   "cell_type": "markdown",
   "id": "3e453e24",
   "metadata": {},
   "source": [
    "8. Выявление важности признаков (future importance)\n",
    "\n",
    "Для дальнейшего отслеживания жизненного цикла модели<br>\n",
    "Для внесения изменения в существующую модель в части исключения маловажных признаков из модели"
   ]
  },
  {
   "cell_type": "markdown",
   "id": "e6f9150a",
   "metadata": {},
   "source": [
    "9. Оценка точности модели, построение матрицы ошибок"
   ]
  },
  {
   "cell_type": "markdown",
   "id": "8b820a94",
   "metadata": {},
   "source": [
    "10. Создание отчета"
   ]
  },
  {
   "cell_type": "markdown",
   "id": "88e5061f",
   "metadata": {},
   "source": [
    "<div class=\"alert alert-success\">\n",
    "<h3> Комментарий тимлида (план) <a class=\"tocSkip\"> </h3> \n",
    "    \n",
    "<b>Все отлично! 👍:</b> Потрясающий план, со всеми деталями!"
   ]
  },
  {
   "cell_type": "markdown",
   "id": "b48177b5",
   "metadata": {},
   "source": [
    "### Вопросы к заказчику:"
   ]
  },
  {
   "cell_type": "markdown",
   "id": "3644fb28",
   "metadata": {},
   "source": [
    "1. Имеется ли сведения о времени выхода абонента в сеть(если это интернет), длительности пребывания, средней скорости на канале \n",
    "(Возможно покинувший недоволен скоростью, а пользуется в часы пиковой нагрузки)<br>\n",
    "2. Какие скидки, улучшения и прочее провайдер в принципе может предложить клиентам (в зависимости от этого может изменяться анализ данных и сами предоставляемые данные)<br>\n",
    "3. Кто будет читать отчет и насколько детализировать полученные результаты, кто будет принимать управленческие решения (от этого могут зависеть представляемые выводы, визуализация, представление данных)<br>"
   ]
  },
  {
   "cell_type": "markdown",
   "id": "7a908f15",
   "metadata": {},
   "source": [
    "<div class=\"alert alert-success\">\n",
    "<b>Комментарий тимлида:</b>\n",
    "    \n",
    "1. Заказчик пока не готов предоставлять дополнительные данные, но идеи действительно интересные.\n",
    "    \n",
    "2. Кампания по удержанию клиентов будет формироваться скорее уже на основе способностей нашей модели, а не наоборот. После создания прототипа модели, если он удовлетворит заказчика, начнется этап проработки и тестирования разных стратегий.\n",
    "    \n",
    "3. Отчет будет рассматриваться маркетинговым отделом компании и руководством. "
   ]
  },
  {
   "cell_type": "markdown",
   "id": "0fec48e0",
   "metadata": {},
   "source": [
    "<div style=\"border:solid Chocolate 2px; padding: 40px\">\n",
    "\n",
    "**Общий вывод по плану**\n",
    "\n",
    "Дмитрий, предварительный анализ проведен хорошо, можно скорректировать лишь некоторые моменты. План составлен релевантно, поэтому можем приступать к реализации последующих шагов.\n",
    "\n",
    "**Успехов!** 😉"
   ]
  },
  {
   "cell_type": "markdown",
   "id": "b9ab464e",
   "metadata": {},
   "source": [
    "## Предобработка данных"
   ]
  },
  {
   "cell_type": "markdown",
   "id": "9adbb5c5",
   "metadata": {},
   "source": [
    "### Преобразование имен столбцов"
   ]
  },
  {
   "cell_type": "markdown",
   "id": "a859e7ce",
   "metadata": {},
   "source": [
    "Использование модуля **skimpy**"
   ]
  },
  {
   "cell_type": "code",
   "execution_count": 24,
   "id": "dd416c41",
   "metadata": {},
   "outputs": [
    {
     "data": {
      "text/html": [
       "<pre style=\"white-space:pre;overflow-x:auto;line-height:normal;font-family:Menlo,'DejaVu Sans Mono',consolas,'Courier New',monospace\"><span style=\"color: #008080; text-decoration-color: #008080; font-weight: bold\">8</span> column names have been cleaned\n",
       "</pre>\n"
      ],
      "text/plain": [
       "\u001b[1;36m8\u001b[0m column names have been cleaned\n"
      ]
     },
     "metadata": {},
     "output_type": "display_data"
    }
   ],
   "source": [
    "dc = clean_columns(dc)"
   ]
  },
  {
   "cell_type": "code",
   "execution_count": 25,
   "id": "2a6baabd",
   "metadata": {},
   "outputs": [
    {
     "data": {
      "text/html": [
       "<pre style=\"white-space:pre;overflow-x:auto;line-height:normal;font-family:Menlo,'DejaVu Sans Mono',consolas,'Courier New',monospace\"><span style=\"color: #008080; text-decoration-color: #008080; font-weight: bold\">4</span> column names have been cleaned\n",
       "</pre>\n"
      ],
      "text/plain": [
       "\u001b[1;36m4\u001b[0m column names have been cleaned\n"
      ]
     },
     "metadata": {},
     "output_type": "display_data"
    }
   ],
   "source": [
    "dp = clean_columns(dp)"
   ]
  },
  {
   "cell_type": "code",
   "execution_count": 26,
   "id": "f9300af1",
   "metadata": {},
   "outputs": [
    {
     "data": {
      "text/html": [
       "<pre style=\"white-space:pre;overflow-x:auto;line-height:normal;font-family:Menlo,'DejaVu Sans Mono',consolas,'Courier New',monospace\"><span style=\"color: #008080; text-decoration-color: #008080; font-weight: bold\">8</span> column names have been cleaned\n",
       "</pre>\n"
      ],
      "text/plain": [
       "\u001b[1;36m8\u001b[0m column names have been cleaned\n"
      ]
     },
     "metadata": {},
     "output_type": "display_data"
    }
   ],
   "source": [
    "di = clean_columns(di)"
   ]
  },
  {
   "cell_type": "code",
   "execution_count": 27,
   "id": "7b1228a1",
   "metadata": {},
   "outputs": [
    {
     "data": {
      "text/html": [
       "<pre style=\"white-space:pre;overflow-x:auto;line-height:normal;font-family:Menlo,'DejaVu Sans Mono',consolas,'Courier New',monospace\"><span style=\"color: #008080; text-decoration-color: #008080; font-weight: bold\">2</span> column names have been cleaned\n",
       "</pre>\n"
      ],
      "text/plain": [
       "\u001b[1;36m2\u001b[0m column names have been cleaned\n"
      ]
     },
     "metadata": {},
     "output_type": "display_data"
    }
   ],
   "source": [
    "dph = clean_columns(dph)"
   ]
  },
  {
   "cell_type": "code",
   "execution_count": 28,
   "id": "eb7cda0d",
   "metadata": {},
   "outputs": [
    {
     "data": {
      "text/plain": [
       "['customer_id',\n",
       " 'begin_date',\n",
       " 'end_date',\n",
       " 'type',\n",
       " 'paperless_billing',\n",
       " 'payment_method',\n",
       " 'monthly_charges',\n",
       " 'total_charges']"
      ]
     },
     "execution_count": 28,
     "metadata": {},
     "output_type": "execute_result"
    }
   ],
   "source": [
    "dc.columns.tolist()"
   ]
  },
  {
   "cell_type": "code",
   "execution_count": 29,
   "id": "5d5f8ed5",
   "metadata": {},
   "outputs": [
    {
     "data": {
      "text/plain": [
       "['customer_id', 'gender', 'senior_citizen', 'partner', 'dependents']"
      ]
     },
     "execution_count": 29,
     "metadata": {},
     "output_type": "execute_result"
    }
   ],
   "source": [
    "dp.columns.tolist()"
   ]
  },
  {
   "cell_type": "code",
   "execution_count": 30,
   "id": "d88bb8c8",
   "metadata": {},
   "outputs": [
    {
     "data": {
      "text/plain": [
       "['customer_id',\n",
       " 'internet_service',\n",
       " 'online_security',\n",
       " 'online_backup',\n",
       " 'device_protection',\n",
       " 'tech_support',\n",
       " 'streaming_tv',\n",
       " 'streaming_movies']"
      ]
     },
     "execution_count": 30,
     "metadata": {},
     "output_type": "execute_result"
    }
   ],
   "source": [
    "di.columns.tolist()"
   ]
  },
  {
   "cell_type": "code",
   "execution_count": 31,
   "id": "e8ea7ab1",
   "metadata": {},
   "outputs": [
    {
     "data": {
      "text/plain": [
       "['customer_id', 'multiple_lines']"
      ]
     },
     "execution_count": 31,
     "metadata": {},
     "output_type": "execute_result"
    }
   ],
   "source": [
    "dph.columns.tolist()"
   ]
  },
  {
   "cell_type": "markdown",
   "id": "d6b20b56",
   "metadata": {},
   "source": [
    "### Создание новых данных"
   ]
  },
  {
   "cell_type": "markdown",
   "id": "143dec7f",
   "metadata": {},
   "source": [
    "Создание целевого столбца"
   ]
  },
  {
   "cell_type": "code",
   "execution_count": 32,
   "id": "f432c3d4",
   "metadata": {},
   "outputs": [],
   "source": [
    "dc['target'] = 0"
   ]
  },
  {
   "cell_type": "markdown",
   "id": "005a5921",
   "metadata": {},
   "source": [
    "Если в поле **end_date** находится значение, отличное от **No**, то в поле *target* устанавливается **1**"
   ]
  },
  {
   "cell_type": "code",
   "execution_count": 33,
   "id": "d50ffcc8",
   "metadata": {},
   "outputs": [],
   "source": [
    "dc.loc[dc['end_date']!='No','target'] = 1"
   ]
  },
  {
   "cell_type": "markdown",
   "id": "05d0c77f",
   "metadata": {},
   "source": [
    "<div class=\"alert alert-success\">\n",
    "<h3> Комментарий тимлида (код)<a class=\"tocSkip\"> </h3>\n",
    "\n",
    "<b>Отличная работа!👍:</b> Отлично, таргет сформирован корректно: целевым действием у нас является уход клиента, поэтому именно его лучше обозначить за positive class, так как от этого зависит интерпретация тех или иных метрик (наиболее используемые метрики, такие как precision, recall, f1, roc-auc, например, фокуcируются на positive оценке, ввиду того, что нам важнее распознать уходящих клиентов, чем оставшихся, то логичнее за positive class обозначить уходящих клиентов). Подробнее <a href = 'https://medium.com/@asimango/the-positive-class-what-should-it-be-in-a-machine-learning-binary-classification-problem-36c316da1127'>тут</a>."
   ]
  },
  {
   "cell_type": "markdown",
   "id": "f2b7b852",
   "metadata": {},
   "source": [
    "Преобразование типов"
   ]
  },
  {
   "cell_type": "code",
   "execution_count": 34,
   "id": "9c45e5ae",
   "metadata": {},
   "outputs": [],
   "source": [
    "dc['begin_date'] = pd.to_datetime(dc['begin_date'])"
   ]
  },
  {
   "cell_type": "code",
   "execution_count": 35,
   "id": "50931b39",
   "metadata": {},
   "outputs": [
    {
     "data": {
      "text/plain": [
       "dtype('<M8[ns]')"
      ]
     },
     "execution_count": 35,
     "metadata": {},
     "output_type": "execute_result"
    }
   ],
   "source": [
    "dc['begin_date'].dtype"
   ]
  },
  {
   "cell_type": "code",
   "execution_count": 36,
   "id": "35c6c036",
   "metadata": {},
   "outputs": [
    {
     "data": {
      "text/plain": [
       "7043"
      ]
     },
     "execution_count": 36,
     "metadata": {},
     "output_type": "execute_result"
    }
   ],
   "source": [
    "dc.shape[0]"
   ]
  },
  {
   "cell_type": "markdown",
   "id": "f437da54",
   "metadata": {},
   "source": [
    "Заполнение пропусков в total_charges"
   ]
  },
  {
   "cell_type": "code",
   "execution_count": 37,
   "id": "59db5b4f",
   "metadata": {},
   "outputs": [],
   "source": [
    "#dc = dc.loc[~dc['total_charges'].str.contains(\" \")]"
   ]
  },
  {
   "cell_type": "code",
   "execution_count": 38,
   "id": "f9c5419b",
   "metadata": {},
   "outputs": [],
   "source": [
    "dc.loc[dc['total_charges'].str.contains(\" \"),'total_charges'] = dc['monthly_charges']"
   ]
  },
  {
   "cell_type": "code",
   "execution_count": 39,
   "id": "a00ebb34",
   "metadata": {},
   "outputs": [
    {
     "data": {
      "text/plain": [
       "7043"
      ]
     },
     "execution_count": 39,
     "metadata": {},
     "output_type": "execute_result"
    }
   ],
   "source": [
    "dc.shape[0]"
   ]
  },
  {
   "cell_type": "code",
   "execution_count": 40,
   "id": "67f5f2cf",
   "metadata": {},
   "outputs": [],
   "source": [
    "dc['total_charges'] = dc['total_charges'].astype(float)"
   ]
  },
  {
   "cell_type": "code",
   "execution_count": 41,
   "id": "dcbbedda",
   "metadata": {},
   "outputs": [
    {
     "data": {
      "text/plain": [
       "dtype('float64')"
      ]
     },
     "execution_count": 41,
     "metadata": {},
     "output_type": "execute_result"
    }
   ],
   "source": [
    "dc['total_charges'].dtype"
   ]
  },
  {
   "cell_type": "markdown",
   "id": "d543bdbb",
   "metadata": {},
   "source": [
    "**Расчет дней действия договора (contract_lifetime)**"
   ]
  },
  {
   "cell_type": "code",
   "execution_count": 42,
   "id": "e9316c9c",
   "metadata": {},
   "outputs": [],
   "source": [
    "def calc_days_between_date(row):\n",
    "    '''\n",
    "    Модуль для вычисления количества дней между двумя датами\n",
    "    '''\n",
    "    \n",
    "    someday = date(2020,2,1)\n",
    "    if row['end_date'] == 'No':\n",
    "        return (someday - row['begin_date'].date()).days\n",
    "    else:\n",
    "        return (datetime.strptime(row['end_date'], '%Y-%m-%d').date() - row['begin_date'].date()).days\n"
   ]
  },
  {
   "cell_type": "code",
   "execution_count": 43,
   "id": "073a93b5",
   "metadata": {},
   "outputs": [],
   "source": [
    "dc['contract_lifetime'] = dc.apply(calc_days_between_date, axis=1)"
   ]
  },
  {
   "cell_type": "markdown",
   "id": "22984910",
   "metadata": {},
   "source": [
    "<div class=\"alert alert-success\">\n",
    "<h3> Комментарий тимлида (код)<a class=\"tocSkip\"> </h3>\n",
    "\n",
    "<b>Отличная работа!👍:</b> Отлично! Клиентский стаж действительно может оказаться признаком с достаточно хорошей объясняющей способностью."
   ]
  },
  {
   "cell_type": "markdown",
   "id": "ce8180ef",
   "metadata": {},
   "source": [
    "<div class=\"alert alert-warning\">\n",
    "<h3> Комментарий тимлида (код)<a class=\"tocSkip\"> </h3>\n",
    "    \n",
    "<b>Некоторые замечания и рекомендации💡:</b> Apply работает циклично, перебирая строку за строкой. Разработчики же numpy и pandas при создании каких-то функций постарались сделать так, чтобы производимые внутри них расчеты были эффективнее цикличного перебора. В данном случае было бы лучше сначала произвести замену даты, а затем через векторные вычисления найти уже разницу дат."
   ]
  },
  {
   "cell_type": "markdown",
   "id": "c8ff929c",
   "metadata": {},
   "source": [
    "<div class=\"alert alert-info\">\n",
    "<b>Комментарий:</b>\n",
    "    Пока столбец end_date оставлю без изменений. Возможно, после анализа проведу преобразования. No заменю на 2020-02-01 и выполню расчет времени жизни действия договора по рекомендованному тобой способу\n",
    "<br>"
   ]
  },
  {
   "cell_type": "code",
   "execution_count": 44,
   "id": "b5351c5e",
   "metadata": {},
   "outputs": [
    {
     "data": {
      "text/html": [
       "<div>\n",
       "<style scoped>\n",
       "    .dataframe tbody tr th:only-of-type {\n",
       "        vertical-align: middle;\n",
       "    }\n",
       "\n",
       "    .dataframe tbody tr th {\n",
       "        vertical-align: top;\n",
       "    }\n",
       "\n",
       "    .dataframe thead th {\n",
       "        text-align: right;\n",
       "    }\n",
       "</style>\n",
       "<table border=\"1\" class=\"dataframe\">\n",
       "  <thead>\n",
       "    <tr style=\"text-align: right;\">\n",
       "      <th></th>\n",
       "      <th>customer_id</th>\n",
       "      <th>begin_date</th>\n",
       "      <th>end_date</th>\n",
       "      <th>type</th>\n",
       "      <th>paperless_billing</th>\n",
       "      <th>payment_method</th>\n",
       "      <th>monthly_charges</th>\n",
       "      <th>total_charges</th>\n",
       "      <th>target</th>\n",
       "      <th>contract_lifetime</th>\n",
       "    </tr>\n",
       "  </thead>\n",
       "  <tbody>\n",
       "    <tr>\n",
       "      <th>0</th>\n",
       "      <td>7590-VHVEG</td>\n",
       "      <td>2020-01-01</td>\n",
       "      <td>No</td>\n",
       "      <td>Month-to-month</td>\n",
       "      <td>Yes</td>\n",
       "      <td>Electronic check</td>\n",
       "      <td>29.85</td>\n",
       "      <td>31.04</td>\n",
       "      <td>0</td>\n",
       "      <td>31</td>\n",
       "    </tr>\n",
       "    <tr>\n",
       "      <th>1</th>\n",
       "      <td>5575-GNVDE</td>\n",
       "      <td>2017-04-01</td>\n",
       "      <td>No</td>\n",
       "      <td>One year</td>\n",
       "      <td>No</td>\n",
       "      <td>Mailed check</td>\n",
       "      <td>56.95</td>\n",
       "      <td>2071.84</td>\n",
       "      <td>0</td>\n",
       "      <td>1036</td>\n",
       "    </tr>\n",
       "    <tr>\n",
       "      <th>2</th>\n",
       "      <td>3668-QPYBK</td>\n",
       "      <td>2019-10-01</td>\n",
       "      <td>No</td>\n",
       "      <td>Month-to-month</td>\n",
       "      <td>Yes</td>\n",
       "      <td>Mailed check</td>\n",
       "      <td>53.85</td>\n",
       "      <td>226.17</td>\n",
       "      <td>0</td>\n",
       "      <td>123</td>\n",
       "    </tr>\n",
       "    <tr>\n",
       "      <th>3</th>\n",
       "      <td>7795-CFOCW</td>\n",
       "      <td>2016-05-01</td>\n",
       "      <td>No</td>\n",
       "      <td>One year</td>\n",
       "      <td>No</td>\n",
       "      <td>Bank transfer (automatic)</td>\n",
       "      <td>42.30</td>\n",
       "      <td>1960.60</td>\n",
       "      <td>0</td>\n",
       "      <td>1371</td>\n",
       "    </tr>\n",
       "    <tr>\n",
       "      <th>4</th>\n",
       "      <td>9237-HQITU</td>\n",
       "      <td>2019-09-01</td>\n",
       "      <td>No</td>\n",
       "      <td>Month-to-month</td>\n",
       "      <td>Yes</td>\n",
       "      <td>Electronic check</td>\n",
       "      <td>70.70</td>\n",
       "      <td>353.50</td>\n",
       "      <td>0</td>\n",
       "      <td>153</td>\n",
       "    </tr>\n",
       "    <tr>\n",
       "      <th>5</th>\n",
       "      <td>9305-CDSKC</td>\n",
       "      <td>2019-03-01</td>\n",
       "      <td>No</td>\n",
       "      <td>Month-to-month</td>\n",
       "      <td>Yes</td>\n",
       "      <td>Electronic check</td>\n",
       "      <td>99.65</td>\n",
       "      <td>1150.96</td>\n",
       "      <td>0</td>\n",
       "      <td>337</td>\n",
       "    </tr>\n",
       "    <tr>\n",
       "      <th>6</th>\n",
       "      <td>1452-KIOVK</td>\n",
       "      <td>2018-04-01</td>\n",
       "      <td>No</td>\n",
       "      <td>Month-to-month</td>\n",
       "      <td>Yes</td>\n",
       "      <td>Credit card (automatic)</td>\n",
       "      <td>89.10</td>\n",
       "      <td>2058.21</td>\n",
       "      <td>0</td>\n",
       "      <td>671</td>\n",
       "    </tr>\n",
       "    <tr>\n",
       "      <th>7</th>\n",
       "      <td>6713-OKOMC</td>\n",
       "      <td>2019-04-01</td>\n",
       "      <td>No</td>\n",
       "      <td>Month-to-month</td>\n",
       "      <td>No</td>\n",
       "      <td>Mailed check</td>\n",
       "      <td>29.75</td>\n",
       "      <td>300.48</td>\n",
       "      <td>0</td>\n",
       "      <td>306</td>\n",
       "    </tr>\n",
       "    <tr>\n",
       "      <th>8</th>\n",
       "      <td>7892-POOKP</td>\n",
       "      <td>2017-07-01</td>\n",
       "      <td>No</td>\n",
       "      <td>Month-to-month</td>\n",
       "      <td>Yes</td>\n",
       "      <td>Electronic check</td>\n",
       "      <td>104.80</td>\n",
       "      <td>3573.68</td>\n",
       "      <td>0</td>\n",
       "      <td>945</td>\n",
       "    </tr>\n",
       "    <tr>\n",
       "      <th>9</th>\n",
       "      <td>6388-TABGU</td>\n",
       "      <td>2014-12-01</td>\n",
       "      <td>2017-05-01</td>\n",
       "      <td>One year</td>\n",
       "      <td>No</td>\n",
       "      <td>Bank transfer (automatic)</td>\n",
       "      <td>56.15</td>\n",
       "      <td>1628.35</td>\n",
       "      <td>1</td>\n",
       "      <td>882</td>\n",
       "    </tr>\n",
       "  </tbody>\n",
       "</table>\n",
       "</div>"
      ],
      "text/plain": [
       "  customer_id begin_date    end_date            type paperless_billing  \\\n",
       "0  7590-VHVEG 2020-01-01          No  Month-to-month               Yes   \n",
       "1  5575-GNVDE 2017-04-01          No        One year                No   \n",
       "2  3668-QPYBK 2019-10-01          No  Month-to-month               Yes   \n",
       "3  7795-CFOCW 2016-05-01          No        One year                No   \n",
       "4  9237-HQITU 2019-09-01          No  Month-to-month               Yes   \n",
       "5  9305-CDSKC 2019-03-01          No  Month-to-month               Yes   \n",
       "6  1452-KIOVK 2018-04-01          No  Month-to-month               Yes   \n",
       "7  6713-OKOMC 2019-04-01          No  Month-to-month                No   \n",
       "8  7892-POOKP 2017-07-01          No  Month-to-month               Yes   \n",
       "9  6388-TABGU 2014-12-01  2017-05-01        One year                No   \n",
       "\n",
       "              payment_method  monthly_charges  total_charges  target  \\\n",
       "0           Electronic check            29.85          31.04       0   \n",
       "1               Mailed check            56.95        2071.84       0   \n",
       "2               Mailed check            53.85         226.17       0   \n",
       "3  Bank transfer (automatic)            42.30        1960.60       0   \n",
       "4           Electronic check            70.70         353.50       0   \n",
       "5           Electronic check            99.65        1150.96       0   \n",
       "6    Credit card (automatic)            89.10        2058.21       0   \n",
       "7               Mailed check            29.75         300.48       0   \n",
       "8           Electronic check           104.80        3573.68       0   \n",
       "9  Bank transfer (automatic)            56.15        1628.35       1   \n",
       "\n",
       "   contract_lifetime  \n",
       "0                 31  \n",
       "1               1036  \n",
       "2                123  \n",
       "3               1371  \n",
       "4                153  \n",
       "5                337  \n",
       "6                671  \n",
       "7                306  \n",
       "8                945  \n",
       "9                882  "
      ]
     },
     "execution_count": 44,
     "metadata": {},
     "output_type": "execute_result"
    }
   ],
   "source": [
    "dc.head(10)"
   ]
  },
  {
   "cell_type": "markdown",
   "id": "92992aca",
   "metadata": {},
   "source": [
    "Числовые значения присутствуют только в dc, поэтому описание данных извлекается из нее"
   ]
  },
  {
   "cell_type": "code",
   "execution_count": 45,
   "id": "52600f02",
   "metadata": {
    "scrolled": true
   },
   "outputs": [
    {
     "data": {
      "text/html": [
       "<div>\n",
       "<style scoped>\n",
       "    .dataframe tbody tr th:only-of-type {\n",
       "        vertical-align: middle;\n",
       "    }\n",
       "\n",
       "    .dataframe tbody tr th {\n",
       "        vertical-align: top;\n",
       "    }\n",
       "\n",
       "    .dataframe thead th {\n",
       "        text-align: right;\n",
       "    }\n",
       "</style>\n",
       "<table border=\"1\" class=\"dataframe\">\n",
       "  <thead>\n",
       "    <tr style=\"text-align: right;\">\n",
       "      <th></th>\n",
       "      <th>monthly_charges</th>\n",
       "      <th>total_charges</th>\n",
       "      <th>target</th>\n",
       "      <th>contract_lifetime</th>\n",
       "    </tr>\n",
       "  </thead>\n",
       "  <tbody>\n",
       "    <tr>\n",
       "      <th>count</th>\n",
       "      <td>7043.000000</td>\n",
       "      <td>7043.000000</td>\n",
       "      <td>7043.000000</td>\n",
       "      <td>7043.000000</td>\n",
       "    </tr>\n",
       "    <tr>\n",
       "      <th>mean</th>\n",
       "      <td>64.761692</td>\n",
       "      <td>2115.377573</td>\n",
       "      <td>0.156325</td>\n",
       "      <td>898.555729</td>\n",
       "    </tr>\n",
       "    <tr>\n",
       "      <th>std</th>\n",
       "      <td>30.090047</td>\n",
       "      <td>2112.678861</td>\n",
       "      <td>0.363189</td>\n",
       "      <td>683.130510</td>\n",
       "    </tr>\n",
       "    <tr>\n",
       "      <th>min</th>\n",
       "      <td>18.250000</td>\n",
       "      <td>19.050000</td>\n",
       "      <td>0.000000</td>\n",
       "      <td>0.000000</td>\n",
       "    </tr>\n",
       "    <tr>\n",
       "      <th>25%</th>\n",
       "      <td>35.500000</td>\n",
       "      <td>436.750000</td>\n",
       "      <td>0.000000</td>\n",
       "      <td>276.000000</td>\n",
       "    </tr>\n",
       "    <tr>\n",
       "      <th>50%</th>\n",
       "      <td>70.350000</td>\n",
       "      <td>1343.350000</td>\n",
       "      <td>0.000000</td>\n",
       "      <td>761.000000</td>\n",
       "    </tr>\n",
       "    <tr>\n",
       "      <th>75%</th>\n",
       "      <td>89.850000</td>\n",
       "      <td>3236.690000</td>\n",
       "      <td>0.000000</td>\n",
       "      <td>1461.000000</td>\n",
       "    </tr>\n",
       "    <tr>\n",
       "      <th>max</th>\n",
       "      <td>118.750000</td>\n",
       "      <td>9221.380000</td>\n",
       "      <td>1.000000</td>\n",
       "      <td>2314.000000</td>\n",
       "    </tr>\n",
       "  </tbody>\n",
       "</table>\n",
       "</div>"
      ],
      "text/plain": [
       "       monthly_charges  total_charges       target  contract_lifetime\n",
       "count      7043.000000    7043.000000  7043.000000        7043.000000\n",
       "mean         64.761692    2115.377573     0.156325         898.555729\n",
       "std          30.090047    2112.678861     0.363189         683.130510\n",
       "min          18.250000      19.050000     0.000000           0.000000\n",
       "25%          35.500000     436.750000     0.000000         276.000000\n",
       "50%          70.350000    1343.350000     0.000000         761.000000\n",
       "75%          89.850000    3236.690000     0.000000        1461.000000\n",
       "max         118.750000    9221.380000     1.000000        2314.000000"
      ]
     },
     "execution_count": 45,
     "metadata": {},
     "output_type": "execute_result"
    }
   ],
   "source": [
    "dc.describe()"
   ]
  },
  {
   "cell_type": "markdown",
   "id": "6f78d40f",
   "metadata": {},
   "source": [
    "Аномальных значений в числовых данных не наблюдается"
   ]
  },
  {
   "cell_type": "code",
   "execution_count": null,
   "id": "4fd9bcd9",
   "metadata": {},
   "outputs": [],
   "source": []
  },
  {
   "cell_type": "markdown",
   "id": "eda867b4",
   "metadata": {},
   "source": [
    "### Замена тестовых бинарных признаков на 0 и 1"
   ]
  },
  {
   "cell_type": "markdown",
   "id": "c408ac7f",
   "metadata": {},
   "source": [
    "Во всех столбцах исходных датафреймах, в которых в качестве значений используется Yes и No осуществляется замена текста на 1 и 0 соответственно"
   ]
  },
  {
   "cell_type": "code",
   "execution_count": 46,
   "id": "29fe96f6",
   "metadata": {},
   "outputs": [],
   "source": [
    "for dfr in [dc,dp,di,dph]:\n",
    "    for i in dfr.columns:\n",
    "        if len(dfr[i].unique()) == 2:\n",
    "            dfr.loc[dfr[i] == 'Yes', i] = 1\n",
    "            dfr.loc[dfr[i] == 'No', i] = 0    "
   ]
  },
  {
   "cell_type": "markdown",
   "id": "1b50ae6d",
   "metadata": {},
   "source": [
    "### Слияние таблиц"
   ]
  },
  {
   "cell_type": "code",
   "execution_count": 47,
   "id": "aaa6ca57",
   "metadata": {},
   "outputs": [],
   "source": [
    "df = pd.merge(dc,dp,how='inner')"
   ]
  },
  {
   "cell_type": "code",
   "execution_count": 48,
   "id": "366ed2c9",
   "metadata": {},
   "outputs": [],
   "source": [
    "df = pd.merge(df,di,how='left')"
   ]
  },
  {
   "cell_type": "code",
   "execution_count": 49,
   "id": "ac25467b",
   "metadata": {},
   "outputs": [],
   "source": [
    "df = pd.merge(df,dph,how='left')"
   ]
  },
  {
   "cell_type": "code",
   "execution_count": 50,
   "id": "7937761d",
   "metadata": {},
   "outputs": [
    {
     "data": {
      "text/html": [
       "<div>\n",
       "<style scoped>\n",
       "    .dataframe tbody tr th:only-of-type {\n",
       "        vertical-align: middle;\n",
       "    }\n",
       "\n",
       "    .dataframe tbody tr th {\n",
       "        vertical-align: top;\n",
       "    }\n",
       "\n",
       "    .dataframe thead th {\n",
       "        text-align: right;\n",
       "    }\n",
       "</style>\n",
       "<table border=\"1\" class=\"dataframe\">\n",
       "  <thead>\n",
       "    <tr style=\"text-align: right;\">\n",
       "      <th></th>\n",
       "      <th>customer_id</th>\n",
       "      <th>begin_date</th>\n",
       "      <th>end_date</th>\n",
       "      <th>type</th>\n",
       "      <th>paperless_billing</th>\n",
       "      <th>payment_method</th>\n",
       "      <th>monthly_charges</th>\n",
       "      <th>total_charges</th>\n",
       "      <th>target</th>\n",
       "      <th>contract_lifetime</th>\n",
       "      <th>...</th>\n",
       "      <th>partner</th>\n",
       "      <th>dependents</th>\n",
       "      <th>internet_service</th>\n",
       "      <th>online_security</th>\n",
       "      <th>online_backup</th>\n",
       "      <th>device_protection</th>\n",
       "      <th>tech_support</th>\n",
       "      <th>streaming_tv</th>\n",
       "      <th>streaming_movies</th>\n",
       "      <th>multiple_lines</th>\n",
       "    </tr>\n",
       "  </thead>\n",
       "  <tbody>\n",
       "    <tr>\n",
       "      <th>0</th>\n",
       "      <td>7590-VHVEG</td>\n",
       "      <td>2020-01-01</td>\n",
       "      <td>No</td>\n",
       "      <td>Month-to-month</td>\n",
       "      <td>1</td>\n",
       "      <td>Electronic check</td>\n",
       "      <td>29.85</td>\n",
       "      <td>31.04</td>\n",
       "      <td>0</td>\n",
       "      <td>31</td>\n",
       "      <td>...</td>\n",
       "      <td>1</td>\n",
       "      <td>0</td>\n",
       "      <td>DSL</td>\n",
       "      <td>0</td>\n",
       "      <td>1</td>\n",
       "      <td>0</td>\n",
       "      <td>0</td>\n",
       "      <td>0</td>\n",
       "      <td>0</td>\n",
       "      <td>NaN</td>\n",
       "    </tr>\n",
       "    <tr>\n",
       "      <th>1</th>\n",
       "      <td>5575-GNVDE</td>\n",
       "      <td>2017-04-01</td>\n",
       "      <td>No</td>\n",
       "      <td>One year</td>\n",
       "      <td>0</td>\n",
       "      <td>Mailed check</td>\n",
       "      <td>56.95</td>\n",
       "      <td>2071.84</td>\n",
       "      <td>0</td>\n",
       "      <td>1036</td>\n",
       "      <td>...</td>\n",
       "      <td>0</td>\n",
       "      <td>0</td>\n",
       "      <td>DSL</td>\n",
       "      <td>1</td>\n",
       "      <td>0</td>\n",
       "      <td>1</td>\n",
       "      <td>0</td>\n",
       "      <td>0</td>\n",
       "      <td>0</td>\n",
       "      <td>0</td>\n",
       "    </tr>\n",
       "    <tr>\n",
       "      <th>2</th>\n",
       "      <td>3668-QPYBK</td>\n",
       "      <td>2019-10-01</td>\n",
       "      <td>No</td>\n",
       "      <td>Month-to-month</td>\n",
       "      <td>1</td>\n",
       "      <td>Mailed check</td>\n",
       "      <td>53.85</td>\n",
       "      <td>226.17</td>\n",
       "      <td>0</td>\n",
       "      <td>123</td>\n",
       "      <td>...</td>\n",
       "      <td>0</td>\n",
       "      <td>0</td>\n",
       "      <td>DSL</td>\n",
       "      <td>1</td>\n",
       "      <td>1</td>\n",
       "      <td>0</td>\n",
       "      <td>0</td>\n",
       "      <td>0</td>\n",
       "      <td>0</td>\n",
       "      <td>0</td>\n",
       "    </tr>\n",
       "    <tr>\n",
       "      <th>3</th>\n",
       "      <td>7795-CFOCW</td>\n",
       "      <td>2016-05-01</td>\n",
       "      <td>No</td>\n",
       "      <td>One year</td>\n",
       "      <td>0</td>\n",
       "      <td>Bank transfer (automatic)</td>\n",
       "      <td>42.30</td>\n",
       "      <td>1960.60</td>\n",
       "      <td>0</td>\n",
       "      <td>1371</td>\n",
       "      <td>...</td>\n",
       "      <td>0</td>\n",
       "      <td>0</td>\n",
       "      <td>DSL</td>\n",
       "      <td>1</td>\n",
       "      <td>0</td>\n",
       "      <td>1</td>\n",
       "      <td>1</td>\n",
       "      <td>0</td>\n",
       "      <td>0</td>\n",
       "      <td>NaN</td>\n",
       "    </tr>\n",
       "    <tr>\n",
       "      <th>4</th>\n",
       "      <td>9237-HQITU</td>\n",
       "      <td>2019-09-01</td>\n",
       "      <td>No</td>\n",
       "      <td>Month-to-month</td>\n",
       "      <td>1</td>\n",
       "      <td>Electronic check</td>\n",
       "      <td>70.70</td>\n",
       "      <td>353.50</td>\n",
       "      <td>0</td>\n",
       "      <td>153</td>\n",
       "      <td>...</td>\n",
       "      <td>0</td>\n",
       "      <td>0</td>\n",
       "      <td>Fiber optic</td>\n",
       "      <td>0</td>\n",
       "      <td>0</td>\n",
       "      <td>0</td>\n",
       "      <td>0</td>\n",
       "      <td>0</td>\n",
       "      <td>0</td>\n",
       "      <td>0</td>\n",
       "    </tr>\n",
       "    <tr>\n",
       "      <th>5</th>\n",
       "      <td>9305-CDSKC</td>\n",
       "      <td>2019-03-01</td>\n",
       "      <td>No</td>\n",
       "      <td>Month-to-month</td>\n",
       "      <td>1</td>\n",
       "      <td>Electronic check</td>\n",
       "      <td>99.65</td>\n",
       "      <td>1150.96</td>\n",
       "      <td>0</td>\n",
       "      <td>337</td>\n",
       "      <td>...</td>\n",
       "      <td>0</td>\n",
       "      <td>0</td>\n",
       "      <td>Fiber optic</td>\n",
       "      <td>0</td>\n",
       "      <td>0</td>\n",
       "      <td>1</td>\n",
       "      <td>0</td>\n",
       "      <td>1</td>\n",
       "      <td>1</td>\n",
       "      <td>1</td>\n",
       "    </tr>\n",
       "    <tr>\n",
       "      <th>6</th>\n",
       "      <td>1452-KIOVK</td>\n",
       "      <td>2018-04-01</td>\n",
       "      <td>No</td>\n",
       "      <td>Month-to-month</td>\n",
       "      <td>1</td>\n",
       "      <td>Credit card (automatic)</td>\n",
       "      <td>89.10</td>\n",
       "      <td>2058.21</td>\n",
       "      <td>0</td>\n",
       "      <td>671</td>\n",
       "      <td>...</td>\n",
       "      <td>0</td>\n",
       "      <td>1</td>\n",
       "      <td>Fiber optic</td>\n",
       "      <td>0</td>\n",
       "      <td>1</td>\n",
       "      <td>0</td>\n",
       "      <td>0</td>\n",
       "      <td>1</td>\n",
       "      <td>0</td>\n",
       "      <td>1</td>\n",
       "    </tr>\n",
       "    <tr>\n",
       "      <th>7</th>\n",
       "      <td>6713-OKOMC</td>\n",
       "      <td>2019-04-01</td>\n",
       "      <td>No</td>\n",
       "      <td>Month-to-month</td>\n",
       "      <td>0</td>\n",
       "      <td>Mailed check</td>\n",
       "      <td>29.75</td>\n",
       "      <td>300.48</td>\n",
       "      <td>0</td>\n",
       "      <td>306</td>\n",
       "      <td>...</td>\n",
       "      <td>0</td>\n",
       "      <td>0</td>\n",
       "      <td>DSL</td>\n",
       "      <td>1</td>\n",
       "      <td>0</td>\n",
       "      <td>0</td>\n",
       "      <td>0</td>\n",
       "      <td>0</td>\n",
       "      <td>0</td>\n",
       "      <td>NaN</td>\n",
       "    </tr>\n",
       "    <tr>\n",
       "      <th>8</th>\n",
       "      <td>7892-POOKP</td>\n",
       "      <td>2017-07-01</td>\n",
       "      <td>No</td>\n",
       "      <td>Month-to-month</td>\n",
       "      <td>1</td>\n",
       "      <td>Electronic check</td>\n",
       "      <td>104.80</td>\n",
       "      <td>3573.68</td>\n",
       "      <td>0</td>\n",
       "      <td>945</td>\n",
       "      <td>...</td>\n",
       "      <td>1</td>\n",
       "      <td>0</td>\n",
       "      <td>Fiber optic</td>\n",
       "      <td>0</td>\n",
       "      <td>0</td>\n",
       "      <td>1</td>\n",
       "      <td>1</td>\n",
       "      <td>1</td>\n",
       "      <td>1</td>\n",
       "      <td>1</td>\n",
       "    </tr>\n",
       "    <tr>\n",
       "      <th>9</th>\n",
       "      <td>6388-TABGU</td>\n",
       "      <td>2014-12-01</td>\n",
       "      <td>2017-05-01</td>\n",
       "      <td>One year</td>\n",
       "      <td>0</td>\n",
       "      <td>Bank transfer (automatic)</td>\n",
       "      <td>56.15</td>\n",
       "      <td>1628.35</td>\n",
       "      <td>1</td>\n",
       "      <td>882</td>\n",
       "      <td>...</td>\n",
       "      <td>0</td>\n",
       "      <td>1</td>\n",
       "      <td>DSL</td>\n",
       "      <td>1</td>\n",
       "      <td>1</td>\n",
       "      <td>0</td>\n",
       "      <td>0</td>\n",
       "      <td>0</td>\n",
       "      <td>0</td>\n",
       "      <td>0</td>\n",
       "    </tr>\n",
       "  </tbody>\n",
       "</table>\n",
       "<p>10 rows × 22 columns</p>\n",
       "</div>"
      ],
      "text/plain": [
       "  customer_id begin_date    end_date            type paperless_billing  \\\n",
       "0  7590-VHVEG 2020-01-01          No  Month-to-month                 1   \n",
       "1  5575-GNVDE 2017-04-01          No        One year                 0   \n",
       "2  3668-QPYBK 2019-10-01          No  Month-to-month                 1   \n",
       "3  7795-CFOCW 2016-05-01          No        One year                 0   \n",
       "4  9237-HQITU 2019-09-01          No  Month-to-month                 1   \n",
       "5  9305-CDSKC 2019-03-01          No  Month-to-month                 1   \n",
       "6  1452-KIOVK 2018-04-01          No  Month-to-month                 1   \n",
       "7  6713-OKOMC 2019-04-01          No  Month-to-month                 0   \n",
       "8  7892-POOKP 2017-07-01          No  Month-to-month                 1   \n",
       "9  6388-TABGU 2014-12-01  2017-05-01        One year                 0   \n",
       "\n",
       "              payment_method  monthly_charges  total_charges  target  \\\n",
       "0           Electronic check            29.85          31.04       0   \n",
       "1               Mailed check            56.95        2071.84       0   \n",
       "2               Mailed check            53.85         226.17       0   \n",
       "3  Bank transfer (automatic)            42.30        1960.60       0   \n",
       "4           Electronic check            70.70         353.50       0   \n",
       "5           Electronic check            99.65        1150.96       0   \n",
       "6    Credit card (automatic)            89.10        2058.21       0   \n",
       "7               Mailed check            29.75         300.48       0   \n",
       "8           Electronic check           104.80        3573.68       0   \n",
       "9  Bank transfer (automatic)            56.15        1628.35       1   \n",
       "\n",
       "   contract_lifetime  ... partner  dependents internet_service  \\\n",
       "0                 31  ...       1           0              DSL   \n",
       "1               1036  ...       0           0              DSL   \n",
       "2                123  ...       0           0              DSL   \n",
       "3               1371  ...       0           0              DSL   \n",
       "4                153  ...       0           0      Fiber optic   \n",
       "5                337  ...       0           0      Fiber optic   \n",
       "6                671  ...       0           1      Fiber optic   \n",
       "7                306  ...       0           0              DSL   \n",
       "8                945  ...       1           0      Fiber optic   \n",
       "9                882  ...       0           1              DSL   \n",
       "\n",
       "  online_security online_backup device_protection tech_support streaming_tv  \\\n",
       "0               0             1                 0            0            0   \n",
       "1               1             0                 1            0            0   \n",
       "2               1             1                 0            0            0   \n",
       "3               1             0                 1            1            0   \n",
       "4               0             0                 0            0            0   \n",
       "5               0             0                 1            0            1   \n",
       "6               0             1                 0            0            1   \n",
       "7               1             0                 0            0            0   \n",
       "8               0             0                 1            1            1   \n",
       "9               1             1                 0            0            0   \n",
       "\n",
       "  streaming_movies multiple_lines  \n",
       "0                0            NaN  \n",
       "1                0              0  \n",
       "2                0              0  \n",
       "3                0            NaN  \n",
       "4                0              0  \n",
       "5                1              1  \n",
       "6                0              1  \n",
       "7                0            NaN  \n",
       "8                1              1  \n",
       "9                0              0  \n",
       "\n",
       "[10 rows x 22 columns]"
      ]
     },
     "execution_count": 50,
     "metadata": {},
     "output_type": "execute_result"
    }
   ],
   "source": [
    "df.head(10)"
   ]
  },
  {
   "cell_type": "code",
   "execution_count": 51,
   "id": "56d6d9aa",
   "metadata": {
    "scrolled": false
   },
   "outputs": [
    {
     "name": "stdout",
     "output_type": "stream",
     "text": [
      "<class 'pandas.core.frame.DataFrame'>\n",
      "Int64Index: 7043 entries, 0 to 7042\n",
      "Data columns (total 22 columns):\n",
      " #   Column             Non-Null Count  Dtype         \n",
      "---  ------             --------------  -----         \n",
      " 0   customer_id        7043 non-null   object        \n",
      " 1   begin_date         7043 non-null   datetime64[ns]\n",
      " 2   end_date           7043 non-null   object        \n",
      " 3   type               7043 non-null   object        \n",
      " 4   paperless_billing  7043 non-null   object        \n",
      " 5   payment_method     7043 non-null   object        \n",
      " 6   monthly_charges    7043 non-null   float64       \n",
      " 7   total_charges      7043 non-null   float64       \n",
      " 8   target             7043 non-null   int64         \n",
      " 9   contract_lifetime  7043 non-null   int64         \n",
      " 10  gender             7043 non-null   object        \n",
      " 11  senior_citizen     7043 non-null   int64         \n",
      " 12  partner            7043 non-null   object        \n",
      " 13  dependents         7043 non-null   object        \n",
      " 14  internet_service   5517 non-null   object        \n",
      " 15  online_security    5517 non-null   object        \n",
      " 16  online_backup      5517 non-null   object        \n",
      " 17  device_protection  5517 non-null   object        \n",
      " 18  tech_support       5517 non-null   object        \n",
      " 19  streaming_tv       5517 non-null   object        \n",
      " 20  streaming_movies   5517 non-null   object        \n",
      " 21  multiple_lines     6361 non-null   object        \n",
      "dtypes: datetime64[ns](1), float64(2), int64(3), object(16)\n",
      "memory usage: 1.2+ MB\n"
     ]
    }
   ],
   "source": [
    "df.info()"
   ]
  },
  {
   "cell_type": "code",
   "execution_count": null,
   "id": "327e1787",
   "metadata": {},
   "outputs": [],
   "source": []
  },
  {
   "cell_type": "markdown",
   "id": "82923ca7",
   "metadata": {},
   "source": []
  },
  {
   "cell_type": "code",
   "execution_count": null,
   "id": "f54a55e2",
   "metadata": {},
   "outputs": [],
   "source": []
  },
  {
   "cell_type": "code",
   "execution_count": null,
   "id": "ec3ac58a",
   "metadata": {},
   "outputs": [],
   "source": []
  },
  {
   "cell_type": "code",
   "execution_count": null,
   "id": "243739e2",
   "metadata": {},
   "outputs": [],
   "source": []
  },
  {
   "cell_type": "code",
   "execution_count": null,
   "id": "d4fdb242",
   "metadata": {},
   "outputs": [],
   "source": []
  },
  {
   "cell_type": "markdown",
   "id": "18f36279",
   "metadata": {},
   "source": [
    "### Заполнение пропусков"
   ]
  },
  {
   "cell_type": "markdown",
   "id": "05111d43",
   "metadata": {},
   "source": [
    "Пропуски появилиясь в признаках тех строк, которые относятся к абонентам, не пользующимся интернетом.<br>\n",
    "**internet_service** заполним **-1**, так как канал связи неизвестен<br>\n",
    "Поля, относящиеся к интернет сервисам = **No**, так как ими не пользуются те, кто не пользуется интернетом<br>\n",
    "**multiple_line** заполним **-1** "
   ]
  },
  {
   "cell_type": "code",
   "execution_count": 52,
   "id": "c7ebada2",
   "metadata": {},
   "outputs": [],
   "source": [
    "df['internet_service'] = df['internet_service'].fillna(-1)"
   ]
  },
  {
   "cell_type": "code",
   "execution_count": 53,
   "id": "a34503d9",
   "metadata": {},
   "outputs": [],
   "source": [
    "df['online_security'] = df['online_security'].fillna(0)"
   ]
  },
  {
   "cell_type": "code",
   "execution_count": 54,
   "id": "78b8a670",
   "metadata": {},
   "outputs": [],
   "source": [
    "df['online_backup'] = df['online_backup'].fillna(0)"
   ]
  },
  {
   "cell_type": "code",
   "execution_count": 55,
   "id": "f5c4d706",
   "metadata": {},
   "outputs": [],
   "source": [
    "df['device_protection'] = df['device_protection'].fillna(0)"
   ]
  },
  {
   "cell_type": "code",
   "execution_count": 56,
   "id": "05df34ab",
   "metadata": {},
   "outputs": [],
   "source": [
    "df['tech_support'] = df['tech_support'].fillna(0)"
   ]
  },
  {
   "cell_type": "code",
   "execution_count": 57,
   "id": "0efd6009",
   "metadata": {},
   "outputs": [],
   "source": [
    "df['streaming_tv'] = df['streaming_tv'].fillna(0)"
   ]
  },
  {
   "cell_type": "code",
   "execution_count": 58,
   "id": "2738972d",
   "metadata": {},
   "outputs": [],
   "source": [
    "df['streaming_movies'] = df['streaming_movies'].fillna(0)"
   ]
  },
  {
   "cell_type": "code",
   "execution_count": 59,
   "id": "24235061",
   "metadata": {},
   "outputs": [],
   "source": [
    "df['multiple_lines'] = df['multiple_lines'].fillna(-1)"
   ]
  },
  {
   "cell_type": "code",
   "execution_count": 60,
   "id": "5a3726b0",
   "metadata": {},
   "outputs": [
    {
     "name": "stdout",
     "output_type": "stream",
     "text": [
      "<class 'pandas.core.frame.DataFrame'>\n",
      "Int64Index: 7043 entries, 0 to 7042\n",
      "Data columns (total 22 columns):\n",
      " #   Column             Non-Null Count  Dtype         \n",
      "---  ------             --------------  -----         \n",
      " 0   customer_id        7043 non-null   object        \n",
      " 1   begin_date         7043 non-null   datetime64[ns]\n",
      " 2   end_date           7043 non-null   object        \n",
      " 3   type               7043 non-null   object        \n",
      " 4   paperless_billing  7043 non-null   object        \n",
      " 5   payment_method     7043 non-null   object        \n",
      " 6   monthly_charges    7043 non-null   float64       \n",
      " 7   total_charges      7043 non-null   float64       \n",
      " 8   target             7043 non-null   int64         \n",
      " 9   contract_lifetime  7043 non-null   int64         \n",
      " 10  gender             7043 non-null   object        \n",
      " 11  senior_citizen     7043 non-null   int64         \n",
      " 12  partner            7043 non-null   object        \n",
      " 13  dependents         7043 non-null   object        \n",
      " 14  internet_service   7043 non-null   object        \n",
      " 15  online_security    7043 non-null   int64         \n",
      " 16  online_backup      7043 non-null   int64         \n",
      " 17  device_protection  7043 non-null   int64         \n",
      " 18  tech_support       7043 non-null   int64         \n",
      " 19  streaming_tv       7043 non-null   int64         \n",
      " 20  streaming_movies   7043 non-null   int64         \n",
      " 21  multiple_lines     7043 non-null   int64         \n",
      "dtypes: datetime64[ns](1), float64(2), int64(10), object(9)\n",
      "memory usage: 1.2+ MB\n"
     ]
    }
   ],
   "source": [
    "df.info()"
   ]
  },
  {
   "cell_type": "markdown",
   "id": "d9e54b3b",
   "metadata": {},
   "source": [
    "Пропуски отсутствуют"
   ]
  },
  {
   "cell_type": "code",
   "execution_count": 61,
   "id": "a51f124b",
   "metadata": {},
   "outputs": [
    {
     "data": {
      "text/plain": [
       "Index(['customer_id', 'begin_date', 'end_date', 'type', 'paperless_billing',\n",
       "       'payment_method', 'monthly_charges', 'total_charges', 'target',\n",
       "       'contract_lifetime', 'gender', 'senior_citizen', 'partner',\n",
       "       'dependents', 'internet_service', 'online_security', 'online_backup',\n",
       "       'device_protection', 'tech_support', 'streaming_tv', 'streaming_movies',\n",
       "       'multiple_lines'],\n",
       "      dtype='object')"
      ]
     },
     "execution_count": 61,
     "metadata": {},
     "output_type": "execute_result"
    }
   ],
   "source": [
    "df.columns"
   ]
  },
  {
   "cell_type": "markdown",
   "id": "de20e0dc",
   "metadata": {},
   "source": [
    "Список столбцов с категориальными признаками"
   ]
  },
  {
   "cell_type": "code",
   "execution_count": 62,
   "id": "f0f0e60b",
   "metadata": {},
   "outputs": [],
   "source": [
    "categ_columns = ['type', 'paperless_billing',\n",
    "       'payment_method', 'gender', 'senior_citizen', 'partner',\n",
    "       'dependents', 'internet_service', 'online_security', 'online_backup',\n",
    "       'device_protection', 'tech_support', 'streaming_tv', 'streaming_movies',\n",
    "       'multiple_lines']"
   ]
  },
  {
   "cell_type": "code",
   "execution_count": 63,
   "id": "2da68e12",
   "metadata": {},
   "outputs": [],
   "source": [
    "numeric_columns = ['monthly_charges', 'total_charges', 'contract_lifetime']"
   ]
  },
  {
   "cell_type": "markdown",
   "id": "08ea0aac",
   "metadata": {},
   "source": [
    "Создание списка с названиями полей, имеющих числовые категориальные значения (0,1,-1)"
   ]
  },
  {
   "cell_type": "code",
   "execution_count": 64,
   "id": "987f3121",
   "metadata": {},
   "outputs": [],
   "source": [
    "columns_0_1 = []\n",
    "for i in df.columns:\n",
    "    if {0,1} == set(df[i].unique()):\n",
    "        columns_0_1.append(i)\n",
    "    elif {0,1,-1} == set(df[i].unique()):\n",
    "            columns_0_1.append(i)"
   ]
  },
  {
   "cell_type": "code",
   "execution_count": 65,
   "id": "5fd9b93d",
   "metadata": {},
   "outputs": [
    {
     "data": {
      "text/html": [
       "<div>\n",
       "<style scoped>\n",
       "    .dataframe tbody tr th:only-of-type {\n",
       "        vertical-align: middle;\n",
       "    }\n",
       "\n",
       "    .dataframe tbody tr th {\n",
       "        vertical-align: top;\n",
       "    }\n",
       "\n",
       "    .dataframe thead th {\n",
       "        text-align: right;\n",
       "    }\n",
       "</style>\n",
       "<table border=\"1\" class=\"dataframe\">\n",
       "  <thead>\n",
       "    <tr style=\"text-align: right;\">\n",
       "      <th></th>\n",
       "      <th>customer_id</th>\n",
       "      <th>begin_date</th>\n",
       "      <th>end_date</th>\n",
       "      <th>type</th>\n",
       "      <th>paperless_billing</th>\n",
       "      <th>payment_method</th>\n",
       "      <th>monthly_charges</th>\n",
       "      <th>total_charges</th>\n",
       "      <th>target</th>\n",
       "      <th>contract_lifetime</th>\n",
       "      <th>...</th>\n",
       "      <th>partner</th>\n",
       "      <th>dependents</th>\n",
       "      <th>internet_service</th>\n",
       "      <th>online_security</th>\n",
       "      <th>online_backup</th>\n",
       "      <th>device_protection</th>\n",
       "      <th>tech_support</th>\n",
       "      <th>streaming_tv</th>\n",
       "      <th>streaming_movies</th>\n",
       "      <th>multiple_lines</th>\n",
       "    </tr>\n",
       "  </thead>\n",
       "  <tbody>\n",
       "    <tr>\n",
       "      <th>0</th>\n",
       "      <td>7590-VHVEG</td>\n",
       "      <td>2020-01-01</td>\n",
       "      <td>No</td>\n",
       "      <td>Month-to-month</td>\n",
       "      <td>1</td>\n",
       "      <td>Electronic check</td>\n",
       "      <td>29.85</td>\n",
       "      <td>31.04</td>\n",
       "      <td>0</td>\n",
       "      <td>31</td>\n",
       "      <td>...</td>\n",
       "      <td>1</td>\n",
       "      <td>0</td>\n",
       "      <td>DSL</td>\n",
       "      <td>0</td>\n",
       "      <td>1</td>\n",
       "      <td>0</td>\n",
       "      <td>0</td>\n",
       "      <td>0</td>\n",
       "      <td>0</td>\n",
       "      <td>-1</td>\n",
       "    </tr>\n",
       "    <tr>\n",
       "      <th>1</th>\n",
       "      <td>5575-GNVDE</td>\n",
       "      <td>2017-04-01</td>\n",
       "      <td>No</td>\n",
       "      <td>One year</td>\n",
       "      <td>0</td>\n",
       "      <td>Mailed check</td>\n",
       "      <td>56.95</td>\n",
       "      <td>2071.84</td>\n",
       "      <td>0</td>\n",
       "      <td>1036</td>\n",
       "      <td>...</td>\n",
       "      <td>0</td>\n",
       "      <td>0</td>\n",
       "      <td>DSL</td>\n",
       "      <td>1</td>\n",
       "      <td>0</td>\n",
       "      <td>1</td>\n",
       "      <td>0</td>\n",
       "      <td>0</td>\n",
       "      <td>0</td>\n",
       "      <td>0</td>\n",
       "    </tr>\n",
       "    <tr>\n",
       "      <th>2</th>\n",
       "      <td>3668-QPYBK</td>\n",
       "      <td>2019-10-01</td>\n",
       "      <td>No</td>\n",
       "      <td>Month-to-month</td>\n",
       "      <td>1</td>\n",
       "      <td>Mailed check</td>\n",
       "      <td>53.85</td>\n",
       "      <td>226.17</td>\n",
       "      <td>0</td>\n",
       "      <td>123</td>\n",
       "      <td>...</td>\n",
       "      <td>0</td>\n",
       "      <td>0</td>\n",
       "      <td>DSL</td>\n",
       "      <td>1</td>\n",
       "      <td>1</td>\n",
       "      <td>0</td>\n",
       "      <td>0</td>\n",
       "      <td>0</td>\n",
       "      <td>0</td>\n",
       "      <td>0</td>\n",
       "    </tr>\n",
       "    <tr>\n",
       "      <th>3</th>\n",
       "      <td>7795-CFOCW</td>\n",
       "      <td>2016-05-01</td>\n",
       "      <td>No</td>\n",
       "      <td>One year</td>\n",
       "      <td>0</td>\n",
       "      <td>Bank transfer (automatic)</td>\n",
       "      <td>42.30</td>\n",
       "      <td>1960.60</td>\n",
       "      <td>0</td>\n",
       "      <td>1371</td>\n",
       "      <td>...</td>\n",
       "      <td>0</td>\n",
       "      <td>0</td>\n",
       "      <td>DSL</td>\n",
       "      <td>1</td>\n",
       "      <td>0</td>\n",
       "      <td>1</td>\n",
       "      <td>1</td>\n",
       "      <td>0</td>\n",
       "      <td>0</td>\n",
       "      <td>-1</td>\n",
       "    </tr>\n",
       "    <tr>\n",
       "      <th>4</th>\n",
       "      <td>9237-HQITU</td>\n",
       "      <td>2019-09-01</td>\n",
       "      <td>No</td>\n",
       "      <td>Month-to-month</td>\n",
       "      <td>1</td>\n",
       "      <td>Electronic check</td>\n",
       "      <td>70.70</td>\n",
       "      <td>353.50</td>\n",
       "      <td>0</td>\n",
       "      <td>153</td>\n",
       "      <td>...</td>\n",
       "      <td>0</td>\n",
       "      <td>0</td>\n",
       "      <td>Fiber optic</td>\n",
       "      <td>0</td>\n",
       "      <td>0</td>\n",
       "      <td>0</td>\n",
       "      <td>0</td>\n",
       "      <td>0</td>\n",
       "      <td>0</td>\n",
       "      <td>0</td>\n",
       "    </tr>\n",
       "  </tbody>\n",
       "</table>\n",
       "<p>5 rows × 22 columns</p>\n",
       "</div>"
      ],
      "text/plain": [
       "  customer_id begin_date end_date            type paperless_billing  \\\n",
       "0  7590-VHVEG 2020-01-01       No  Month-to-month                 1   \n",
       "1  5575-GNVDE 2017-04-01       No        One year                 0   \n",
       "2  3668-QPYBK 2019-10-01       No  Month-to-month                 1   \n",
       "3  7795-CFOCW 2016-05-01       No        One year                 0   \n",
       "4  9237-HQITU 2019-09-01       No  Month-to-month                 1   \n",
       "\n",
       "              payment_method  monthly_charges  total_charges  target  \\\n",
       "0           Electronic check            29.85          31.04       0   \n",
       "1               Mailed check            56.95        2071.84       0   \n",
       "2               Mailed check            53.85         226.17       0   \n",
       "3  Bank transfer (automatic)            42.30        1960.60       0   \n",
       "4           Electronic check            70.70         353.50       0   \n",
       "\n",
       "   contract_lifetime  ... partner  dependents internet_service  \\\n",
       "0                 31  ...       1           0              DSL   \n",
       "1               1036  ...       0           0              DSL   \n",
       "2                123  ...       0           0              DSL   \n",
       "3               1371  ...       0           0              DSL   \n",
       "4                153  ...       0           0      Fiber optic   \n",
       "\n",
       "  online_security online_backup  device_protection  tech_support  \\\n",
       "0               0             1                  0             0   \n",
       "1               1             0                  1             0   \n",
       "2               1             1                  0             0   \n",
       "3               1             0                  1             1   \n",
       "4               0             0                  0             0   \n",
       "\n",
       "   streaming_tv  streaming_movies  multiple_lines  \n",
       "0             0                 0              -1  \n",
       "1             0                 0               0  \n",
       "2             0                 0               0  \n",
       "3             0                 0              -1  \n",
       "4             0                 0               0  \n",
       "\n",
       "[5 rows x 22 columns]"
      ]
     },
     "execution_count": 65,
     "metadata": {},
     "output_type": "execute_result"
    }
   ],
   "source": [
    "df.head()"
   ]
  },
  {
   "cell_type": "code",
   "execution_count": 66,
   "id": "9303f35d",
   "metadata": {
    "scrolled": true
   },
   "outputs": [
    {
     "name": "stdout",
     "output_type": "stream",
     "text": [
      "['paperless_billing', 'target', 'senior_citizen', 'partner', 'dependents', 'online_security', 'online_backup', 'device_protection', 'tech_support', 'streaming_tv', 'streaming_movies', 'multiple_lines']\n"
     ]
    }
   ],
   "source": [
    "print(columns_0_1)"
   ]
  },
  {
   "cell_type": "markdown",
   "id": "8b541b29",
   "metadata": {},
   "source": [
    "#### Преобразование типа object в int"
   ]
  },
  {
   "cell_type": "code",
   "execution_count": 67,
   "id": "7898f3d7",
   "metadata": {},
   "outputs": [],
   "source": [
    "for i in columns_0_1:\n",
    "    df[i] = df[i].astype(int)"
   ]
  },
  {
   "cell_type": "code",
   "execution_count": 68,
   "id": "435e809d",
   "metadata": {},
   "outputs": [
    {
     "name": "stdout",
     "output_type": "stream",
     "text": [
      "<class 'pandas.core.frame.DataFrame'>\n",
      "Int64Index: 7043 entries, 0 to 7042\n",
      "Data columns (total 22 columns):\n",
      " #   Column             Non-Null Count  Dtype         \n",
      "---  ------             --------------  -----         \n",
      " 0   customer_id        7043 non-null   object        \n",
      " 1   begin_date         7043 non-null   datetime64[ns]\n",
      " 2   end_date           7043 non-null   object        \n",
      " 3   type               7043 non-null   object        \n",
      " 4   paperless_billing  7043 non-null   int32         \n",
      " 5   payment_method     7043 non-null   object        \n",
      " 6   monthly_charges    7043 non-null   float64       \n",
      " 7   total_charges      7043 non-null   float64       \n",
      " 8   target             7043 non-null   int32         \n",
      " 9   contract_lifetime  7043 non-null   int64         \n",
      " 10  gender             7043 non-null   object        \n",
      " 11  senior_citizen     7043 non-null   int32         \n",
      " 12  partner            7043 non-null   int32         \n",
      " 13  dependents         7043 non-null   int32         \n",
      " 14  internet_service   7043 non-null   object        \n",
      " 15  online_security    7043 non-null   int32         \n",
      " 16  online_backup      7043 non-null   int32         \n",
      " 17  device_protection  7043 non-null   int32         \n",
      " 18  tech_support       7043 non-null   int32         \n",
      " 19  streaming_tv       7043 non-null   int32         \n",
      " 20  streaming_movies   7043 non-null   int32         \n",
      " 21  multiple_lines     7043 non-null   int32         \n",
      "dtypes: datetime64[ns](1), float64(2), int32(12), int64(1), object(6)\n",
      "memory usage: 935.4+ KB\n"
     ]
    }
   ],
   "source": [
    "df.info()"
   ]
  },
  {
   "cell_type": "markdown",
   "id": "c2a0a4c6",
   "metadata": {},
   "source": [
    "### Вывод:"
   ]
  },
  {
   "cell_type": "code",
   "execution_count": null,
   "id": "57f767fc",
   "metadata": {},
   "outputs": [],
   "source": []
  },
  {
   "cell_type": "markdown",
   "id": "baf3a8b3",
   "metadata": {},
   "source": [
    "## Исследовательский анализ данных"
   ]
  },
  {
   "cell_type": "markdown",
   "id": "02b74c7d",
   "metadata": {},
   "source": [
    "### Построение портрета пользователя, покинувшего провайдера\n",
    "    "
   ]
  },
  {
   "cell_type": "markdown",
   "id": "9ac292a3",
   "metadata": {},
   "source": [
    "Необходимо построить гистограммы распределений категориальных признаков и такое же распределение для покинувших компанию"
   ]
  },
  {
   "cell_type": "markdown",
   "id": "164efbe8",
   "metadata": {},
   "source": [
    "Функция **feature_distribution** для построения графика распределения категориального признака:"
   ]
  },
  {
   "cell_type": "code",
   "execution_count": 69,
   "id": "1364ae79",
   "metadata": {},
   "outputs": [],
   "source": [
    "def feature_distribution(df, column,cond):\n",
    "    '''\n",
    "    Модуль построения гистограммы распределения категориального признака\n",
    "    и распределения этого признака среди покинувших провайдера\n",
    "    '''\n",
    "    \n",
    "    fig, ax = plt.subplots(1, 2, sharex=True, figsize=(12, 5))\n",
    "    plt.xticks(rotation=0)\n",
    "    sns.countplot(ax=ax[0],x=column, data=df, palette='deep')\n",
    "    ax[0].set_title('Распределение по ' + column)\n",
    "    plt.ylabel('Количество');\n",
    "    \n",
    "    plt.xticks(rotation=0)\n",
    "    sns.countplot(ax=ax[1],x=column, data=df, palette='colorblind',hue='target')\n",
    "    ax[1].set_title('Распределение по ' + column + ' среди ушедших')\n",
    "    plt.ylabel('Количество');\n",
    "   "
   ]
  },
  {
   "cell_type": "code",
   "execution_count": 71,
   "id": "acebe5f7",
   "metadata": {
    "scrolled": false
   },
   "outputs": [
    {
     "data": {
      "image/png": "[encoded data removed]",
      "text/plain": [
       "<Figure size 1200x500 with 2 Axes>"
      ]
     },
     "metadata": {},
     "output_type": "display_data"
    },
    {
     "data": {
      "image/png": "[encoded data removed]",
      "text/plain": [
       "<Figure size 1200x500 with 2 Axes>"
      ]
     },
     "metadata": {},
     "output_type": "display_data"
    },
    {
     "data": {
      "image/png": "[encoded data removed]",
      "text/plain": [
       "<Figure size 1200x500 with 2 Axes>"
      ]
     },
     "metadata": {},
     "output_type": "display_data"
    },
    {
     "data": {
      "image/png": "[encoded data removed]",
      "text/plain": [
       "<Figure size 1200x500 with 2 Axes>"
      ]
     },
     "metadata": {},
     "output_type": "display_data"
    },
    {
     "data": {
      "image/png": "[encoded data removed]",
      "text/plain": [
       "<Figure size 1200x500 with 2 Axes>"
      ]
     },
     "metadata": {},
     "output_type": "display_data"
    },
    {
     "data": {
      "image/png": "[encoded data removed]",
      "text/plain": [
       "<Figure size 1200x500 with 2 Axes>"
      ]
     },
     "metadata": {},
     "output_type": "display_data"
    },
    {
     "data": {
      "image/png": "[encoded data removed]",
      "text/plain": [
       "<Figure size 1200x500 with 2 Axes>"
      ]
     },
     "metadata": {},
     "output_type": "display_data"
    },
    {
     "data": {
      "image/png": "[encoded data removed]",
      "text/plain": [
       "<Figure size 1200x500 with 2 Axes>"
      ]
     },
     "metadata": {},
     "output_type": "display_data"
    },
    {
     "data": {
      "image/png": "[encoded data removed]",
      "text/plain": [
       "<Figure size 1200x500 with 2 Axes>"
      ]
     },
     "metadata": {},
     "output_type": "display_data"
    },
    {
     "data": {
      "image/png": "[encoded data removed]",
      "text/plain": [
       "<Figure size 1200x500 with 2 Axes>"
      ]
     },
     "metadata": {},
     "output_type": "display_data"
    },
    {
     "data": {
      "image/png": "[encoded data removed]",
      "text/plain": [
       "<Figure size 1200x500 with 2 Axes>"
      ]
     },
     "metadata": {},
     "output_type": "display_data"
    },
    {
     "data": {
      "image/png": "[encoded data removed]",
      "text/plain": [
       "<Figure size 1200x500 with 2 Axes>"
      ]
     },
     "metadata": {},
     "output_type": "display_data"
    },
    {
     "data": {
      "image/png": "[encoded data removed]",
      "text/plain": [
       "<Figure size 1200x500 with 2 Axes>"
      ]
     },
     "metadata": {},
     "output_type": "display_data"
    },
    {
     "data": {
      "image/png": "[encoded data removed]",
      "text/plain": [
       "<Figure size 1200x500 with 2 Axes>"
      ]
     },
     "metadata": {},
     "output_type": "display_data"
    },
    {
     "data": {
      "image/png": "[encoded data removed]",
      "text/plain": [
       "<Figure size 1200x500 with 2 Axes>"
      ]
     },
     "metadata": {},
     "output_type": "display_data"
    }
   ],
   "source": [
    "for c in categ_columns:\n",
    "    feature_distribution(df, c,1)"
   ]
  },
  {
   "cell_type": "code",
   "execution_count": 131,
   "id": "20b8ff7b",
   "metadata": {},
   "outputs": [
    {
     "data": {
      "text/plain": [
       "type\n",
       "Month-to-month    407\n",
       "One year          313\n",
       "Two year          381\n",
       "Name: type, dtype: int64"
      ]
     },
     "execution_count": 131,
     "metadata": {},
     "output_type": "execute_result"
    }
   ],
   "source": [
    "df.query('target==1').groupby('type')['type'].count()"
   ]
  },
  {
   "cell_type": "code",
   "execution_count": 132,
   "id": "ac92bd1e",
   "metadata": {},
   "outputs": [
    {
     "data": {
      "text/plain": [
       "7043"
      ]
     },
     "execution_count": 132,
     "metadata": {},
     "output_type": "execute_result"
    }
   ],
   "source": [
    "3468+1160+1314+407+313+381"
   ]
  },
  {
   "cell_type": "code",
   "execution_count": null,
   "id": "b78e300e",
   "metadata": {},
   "outputs": [],
   "source": []
  },
  {
   "cell_type": "code",
   "execution_count": null,
   "id": "df4c19dd",
   "metadata": {},
   "outputs": [],
   "source": []
  },
  {
   "cell_type": "markdown",
   "id": "af71fb84",
   "metadata": {},
   "source": [
    "Среднее время жизни контракта"
   ]
  },
  {
   "cell_type": "code",
   "execution_count": 79,
   "id": "4347dbfd",
   "metadata": {},
   "outputs": [
    {
     "data": {
      "text/plain": [
       "2.46"
      ]
     },
     "execution_count": 79,
     "metadata": {},
     "output_type": "execute_result"
    }
   ],
   "source": [
    "round(df['contract_lifetime'].mean()/365,2)"
   ]
  },
  {
   "cell_type": "markdown",
   "id": "43d5df27",
   "metadata": {},
   "source": [
    "Среднее время жизни контракта для ушедшего абонента"
   ]
  },
  {
   "cell_type": "code",
   "execution_count": 80,
   "id": "056f2530",
   "metadata": {
    "scrolled": true
   },
   "outputs": [
    {
     "data": {
      "text/plain": [
       "2.53"
      ]
     },
     "execution_count": 80,
     "metadata": {},
     "output_type": "execute_result"
    }
   ],
   "source": [
    "round(df[df['target']==1]['contract_lifetime'].mean()/365,2)"
   ]
  },
  {
   "cell_type": "code",
   "execution_count": 81,
   "id": "fd88c4f8",
   "metadata": {
    "scrolled": true
   },
   "outputs": [
    {
     "data": {
      "text/plain": [
       "2.45"
      ]
     },
     "execution_count": 81,
     "metadata": {},
     "output_type": "execute_result"
    }
   ],
   "source": [
    "round(df[df['target']==0]['contract_lifetime'].mean()/365,2)"
   ]
  },
  {
   "cell_type": "code",
   "execution_count": null,
   "id": "8e61ef18",
   "metadata": {},
   "outputs": [],
   "source": []
  },
  {
   "cell_type": "code",
   "execution_count": null,
   "id": "03ec64d5",
   "metadata": {},
   "outputs": [],
   "source": []
  },
  {
   "cell_type": "code",
   "execution_count": 84,
   "id": "0852a21f",
   "metadata": {},
   "outputs": [],
   "source": [
    "df_year = df[['begin_date','target']]"
   ]
  },
  {
   "cell_type": "code",
   "execution_count": 85,
   "id": "219bc7c3",
   "metadata": {},
   "outputs": [
    {
     "name": "stderr",
     "output_type": "stream",
     "text": [
      "C:\\Users\\Admin\\AppData\\Local\\Temp\\ipykernel_6108\\352140566.py:1: SettingWithCopyWarning: \n",
      "A value is trying to be set on a copy of a slice from a DataFrame.\n",
      "Try using .loc[row_indexer,col_indexer] = value instead\n",
      "\n",
      "See the caveats in the documentation: https://pandas.pydata.org/pandas-docs/stable/user_guide/indexing.html#returning-a-view-versus-a-copy\n",
      "  df_year['y'] = pd.DatetimeIndex(df_year['begin_date']).year\n"
     ]
    }
   ],
   "source": [
    "df_year['y'] = pd.DatetimeIndex(df_year['begin_date']).year"
   ]
  },
  {
   "cell_type": "code",
   "execution_count": 86,
   "id": "9bda3e14",
   "metadata": {},
   "outputs": [
    {
     "data": {
      "text/html": [
       "<div>\n",
       "<style scoped>\n",
       "    .dataframe tbody tr th:only-of-type {\n",
       "        vertical-align: middle;\n",
       "    }\n",
       "\n",
       "    .dataframe tbody tr th {\n",
       "        vertical-align: top;\n",
       "    }\n",
       "\n",
       "    .dataframe thead th {\n",
       "        text-align: right;\n",
       "    }\n",
       "</style>\n",
       "<table border=\"1\" class=\"dataframe\">\n",
       "  <thead>\n",
       "    <tr style=\"text-align: right;\">\n",
       "      <th></th>\n",
       "      <th>begin_date</th>\n",
       "      <th>target</th>\n",
       "      <th>y</th>\n",
       "    </tr>\n",
       "  </thead>\n",
       "  <tbody>\n",
       "    <tr>\n",
       "      <th>0</th>\n",
       "      <td>2020-01-01</td>\n",
       "      <td>0</td>\n",
       "      <td>2020</td>\n",
       "    </tr>\n",
       "    <tr>\n",
       "      <th>1</th>\n",
       "      <td>2017-04-01</td>\n",
       "      <td>0</td>\n",
       "      <td>2017</td>\n",
       "    </tr>\n",
       "    <tr>\n",
       "      <th>2</th>\n",
       "      <td>2019-10-01</td>\n",
       "      <td>0</td>\n",
       "      <td>2019</td>\n",
       "    </tr>\n",
       "    <tr>\n",
       "      <th>3</th>\n",
       "      <td>2016-05-01</td>\n",
       "      <td>0</td>\n",
       "      <td>2016</td>\n",
       "    </tr>\n",
       "    <tr>\n",
       "      <th>4</th>\n",
       "      <td>2019-09-01</td>\n",
       "      <td>0</td>\n",
       "      <td>2019</td>\n",
       "    </tr>\n",
       "  </tbody>\n",
       "</table>\n",
       "</div>"
      ],
      "text/plain": [
       "  begin_date  target     y\n",
       "0 2020-01-01       0  2020\n",
       "1 2017-04-01       0  2017\n",
       "2 2019-10-01       0  2019\n",
       "3 2016-05-01       0  2016\n",
       "4 2019-09-01       0  2019"
      ]
     },
     "execution_count": 86,
     "metadata": {},
     "output_type": "execute_result"
    }
   ],
   "source": [
    "df_year.head()"
   ]
  },
  {
   "cell_type": "code",
   "execution_count": 99,
   "id": "0c812a7f",
   "metadata": {},
   "outputs": [],
   "source": [
    "ddd = pd.DataFrame(df_year['y'].value_counts()).reset_index()"
   ]
  },
  {
   "cell_type": "code",
   "execution_count": 100,
   "id": "61e3e5d9",
   "metadata": {},
   "outputs": [
    {
     "data": {
      "text/html": [
       "<div>\n",
       "<style scoped>\n",
       "    .dataframe tbody tr th:only-of-type {\n",
       "        vertical-align: middle;\n",
       "    }\n",
       "\n",
       "    .dataframe tbody tr th {\n",
       "        vertical-align: top;\n",
       "    }\n",
       "\n",
       "    .dataframe thead th {\n",
       "        text-align: right;\n",
       "    }\n",
       "</style>\n",
       "<table border=\"1\" class=\"dataframe\">\n",
       "  <thead>\n",
       "    <tr style=\"text-align: right;\">\n",
       "      <th></th>\n",
       "      <th>index</th>\n",
       "      <th>y</th>\n",
       "    </tr>\n",
       "  </thead>\n",
       "  <tbody>\n",
       "    <tr>\n",
       "      <th>0</th>\n",
       "      <td>2019</td>\n",
       "      <td>1957</td>\n",
       "    </tr>\n",
       "    <tr>\n",
       "      <th>1</th>\n",
       "      <td>2014</td>\n",
       "      <td>1344</td>\n",
       "    </tr>\n",
       "    <tr>\n",
       "      <th>2</th>\n",
       "      <td>2018</td>\n",
       "      <td>1030</td>\n",
       "    </tr>\n",
       "    <tr>\n",
       "      <th>3</th>\n",
       "      <td>2015</td>\n",
       "      <td>852</td>\n",
       "    </tr>\n",
       "    <tr>\n",
       "      <th>4</th>\n",
       "      <td>2017</td>\n",
       "      <td>845</td>\n",
       "    </tr>\n",
       "    <tr>\n",
       "      <th>5</th>\n",
       "      <td>2016</td>\n",
       "      <td>763</td>\n",
       "    </tr>\n",
       "    <tr>\n",
       "      <th>6</th>\n",
       "      <td>2020</td>\n",
       "      <td>244</td>\n",
       "    </tr>\n",
       "    <tr>\n",
       "      <th>7</th>\n",
       "      <td>2013</td>\n",
       "      <td>8</td>\n",
       "    </tr>\n",
       "  </tbody>\n",
       "</table>\n",
       "</div>"
      ],
      "text/plain": [
       "   index     y\n",
       "0   2019  1957\n",
       "1   2014  1344\n",
       "2   2018  1030\n",
       "3   2015   852\n",
       "4   2017   845\n",
       "5   2016   763\n",
       "6   2020   244\n",
       "7   2013     8"
      ]
     },
     "execution_count": 100,
     "metadata": {},
     "output_type": "execute_result"
    }
   ],
   "source": [
    "ddd"
   ]
  },
  {
   "cell_type": "code",
   "execution_count": 119,
   "id": "280cc138",
   "metadata": {},
   "outputs": [],
   "source": [
    "df1_year = df.query('target == 1')"
   ]
  },
  {
   "cell_type": "code",
   "execution_count": 120,
   "id": "9969d9a2",
   "metadata": {
    "scrolled": false
   },
   "outputs": [
    {
     "name": "stderr",
     "output_type": "stream",
     "text": [
      "C:\\Users\\Admin\\AppData\\Local\\Temp\\ipykernel_6108\\1452081271.py:1: SettingWithCopyWarning: \n",
      "A value is trying to be set on a copy of a slice from a DataFrame.\n",
      "Try using .loc[row_indexer,col_indexer] = value instead\n",
      "\n",
      "See the caveats in the documentation: https://pandas.pydata.org/pandas-docs/stable/user_guide/indexing.html#returning-a-view-versus-a-copy\n",
      "  df1_year['end_date'] = pd.to_datetime(df1_year['end_date'])\n"
     ]
    }
   ],
   "source": [
    "df1_year['end_date'] = pd.to_datetime(df1_year['end_date'])"
   ]
  },
  {
   "cell_type": "code",
   "execution_count": 122,
   "id": "ac47bc78",
   "metadata": {},
   "outputs": [
    {
     "name": "stderr",
     "output_type": "stream",
     "text": [
      "C:\\Users\\Admin\\AppData\\Local\\Temp\\ipykernel_6108\\2492809461.py:1: SettingWithCopyWarning: \n",
      "A value is trying to be set on a copy of a slice from a DataFrame.\n",
      "Try using .loc[row_indexer,col_indexer] = value instead\n",
      "\n",
      "See the caveats in the documentation: https://pandas.pydata.org/pandas-docs/stable/user_guide/indexing.html#returning-a-view-versus-a-copy\n",
      "  df1_year['y'] = pd.DatetimeIndex(df1_year['end_date']).year\n"
     ]
    }
   ],
   "source": [
    "df1_year['y'] = pd.DatetimeIndex(df1_year['end_date']).year"
   ]
  },
  {
   "cell_type": "code",
   "execution_count": 123,
   "id": "a548a373",
   "metadata": {},
   "outputs": [],
   "source": [
    "ddd1 = pd.DataFrame(df1_year['y'].value_counts()).reset_index()"
   ]
  },
  {
   "cell_type": "code",
   "execution_count": 133,
   "id": "57ef7928",
   "metadata": {},
   "outputs": [
    {
     "data": {
      "text/html": [
       "<div>\n",
       "<style scoped>\n",
       "    .dataframe tbody tr th:only-of-type {\n",
       "        vertical-align: middle;\n",
       "    }\n",
       "\n",
       "    .dataframe tbody tr th {\n",
       "        vertical-align: top;\n",
       "    }\n",
       "\n",
       "    .dataframe thead th {\n",
       "        text-align: right;\n",
       "    }\n",
       "</style>\n",
       "<table border=\"1\" class=\"dataframe\">\n",
       "  <thead>\n",
       "    <tr style=\"text-align: right;\">\n",
       "      <th></th>\n",
       "      <th>index</th>\n",
       "      <th>y</th>\n",
       "    </tr>\n",
       "  </thead>\n",
       "  <tbody>\n",
       "    <tr>\n",
       "      <th>0</th>\n",
       "      <td>2019</td>\n",
       "      <td>333</td>\n",
       "    </tr>\n",
       "    <tr>\n",
       "      <th>1</th>\n",
       "      <td>2018</td>\n",
       "      <td>285</td>\n",
       "    </tr>\n",
       "    <tr>\n",
       "      <th>2</th>\n",
       "      <td>2017</td>\n",
       "      <td>235</td>\n",
       "    </tr>\n",
       "    <tr>\n",
       "      <th>3</th>\n",
       "      <td>2016</td>\n",
       "      <td>140</td>\n",
       "    </tr>\n",
       "    <tr>\n",
       "      <th>4</th>\n",
       "      <td>2015</td>\n",
       "      <td>62</td>\n",
       "    </tr>\n",
       "    <tr>\n",
       "      <th>5</th>\n",
       "      <td>2020</td>\n",
       "      <td>39</td>\n",
       "    </tr>\n",
       "    <tr>\n",
       "      <th>6</th>\n",
       "      <td>2014</td>\n",
       "      <td>7</td>\n",
       "    </tr>\n",
       "  </tbody>\n",
       "</table>\n",
       "</div>"
      ],
      "text/plain": [
       "   index    y\n",
       "0   2019  333\n",
       "1   2018  285\n",
       "2   2017  235\n",
       "3   2016  140\n",
       "4   2015   62\n",
       "5   2020   39\n",
       "6   2014    7"
      ]
     },
     "execution_count": 133,
     "metadata": {},
     "output_type": "execute_result"
    }
   ],
   "source": [
    "ddd1"
   ]
  },
  {
   "cell_type": "code",
   "execution_count": 124,
   "id": "4ebe6f13",
   "metadata": {},
   "outputs": [
    {
     "data": {
      "image/png": "[encoded data removed]",
      "text/plain": [
       "<Figure size 1200x500 with 1 Axes>"
      ]
     },
     "metadata": {},
     "output_type": "display_data"
    }
   ],
   "source": [
    "fig, ax = plt.subplots(figsize=(12, 5))\n",
    "sns.lineplot(y=\"y\",x='index',data=ddd);\n",
    "sns.lineplot(y=\"y\",x='index',data=ddd1);\n"
   ]
  },
  {
   "cell_type": "code",
   "execution_count": null,
   "id": "c2bab833",
   "metadata": {},
   "outputs": [],
   "source": []
  },
  {
   "cell_type": "markdown",
   "id": "c5066ccc",
   "metadata": {},
   "source": [
    "numeric_columns = ['monthly_charges', 'total_charges', 'contract_lifetime']"
   ]
  },
  {
   "cell_type": "code",
   "execution_count": null,
   "id": "6e023752",
   "metadata": {},
   "outputs": [
    {
     "data": {
      "text/plain": [
       "\"\\nplt.xticks(rotation=0)\\nsns.countplot(ax=ax[1],x=column, data=df, palette='colorblind',hue='target')\\nax[1].set_title('Распределение по ' + column + ' среди ушедших')\\nplt.ylabel('Количество');\\n\""
      ]
     },
     "execution_count": 521,
     "metadata": {},
     "output_type": "execute_result"
    }
   ],
   "source": [
    "#fig, ax = plt.subplots(1, 2, sharex=True, figsize=(12, 5))\n",
    "#fig, ax = plt.subplots(1, 2, sharex=True, figsize=(12, 5))\n",
    "#plt.xticks(rotation=0)\n",
    "#sns.countplot(ax=ax[0],x='monthly_charges', data=df, palette='deep')\n",
    "#ax[0].set_title('Распределение по ' + 'monthly_charges')\n",
    "#plt.ylabel('Количество');\n",
    "\n",
    "sns.lineplot(x=\"contract_lifetime\", y=\"\",\n",
    "             hue=\"target\", style=\"event\",\n",
    "             data=df)\n",
    "\n",
    "'''\n",
    "plt.xticks(rotation=0)\n",
    "sns.countplot(ax=ax[1],x=column, data=df, palette='colorblind',hue='target')\n",
    "ax[1].set_title('Распределение по ' + column + ' среди ушедших')\n",
    "plt.ylabel('Количество');\n",
    "'''"
   ]
  },
  {
   "cell_type": "code",
   "execution_count": null,
   "id": "071c8ed3",
   "metadata": {},
   "outputs": [],
   "source": [
    "numeric_columns = ['monthly_charges', 'total_charges', 'contract_lifetime']"
   ]
  },
  {
   "cell_type": "code",
   "execution_count": null,
   "id": "ef488549",
   "metadata": {},
   "outputs": [],
   "source": []
  },
  {
   "cell_type": "code",
   "execution_count": null,
   "id": "ccb617af",
   "metadata": {},
   "outputs": [],
   "source": []
  },
  {
   "cell_type": "markdown",
   "id": "81f8397d",
   "metadata": {},
   "source": []
  }
 ],
 "metadata": {
  "ExecuteTimeLog": [
   {
    "duration": 29719,
    "start_time": "2023-06-23T03:59:29.788Z"
   }
  ],
  "kernelspec": {
   "display_name": "Python 3 (ipykernel)",
   "language": "python",
   "name": "python3"
  },
  "language_info": {
   "codemirror_mode": {
    "name": "ipython",
    "version": 3
   },
   "file_extension": ".py",
   "mimetype": "text/x-python",
   "name": "python",
   "nbconvert_exporter": "python",
   "pygments_lexer": "ipython3",
   "version": "3.9.13"
  },
  "toc": {
   "base_numbering": 1,
   "nav_menu": {},
   "number_sections": true,
   "sideBar": true,
   "skip_h1_title": true,
   "title_cell": "Table of Contents",
   "title_sidebar": "Contents",
   "toc_cell": false,
   "toc_position": {
    "height": "calc(100% - 180px)",
    "left": "10px",
    "top": "150px",
    "width": "374.391px"
   },
   "toc_section_display": true,
   "toc_window_display": true
  }
 },
 "nbformat": 4,
 "nbformat_minor": 5
}
